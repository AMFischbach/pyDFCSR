{
 "cells": [
  {
   "cell_type": "code",
   "execution_count": 1,
   "metadata": {},
   "outputs": [],
   "source": [
    "from csr3d import CSR3D\n",
    "from bmadx import  Drift, SBend, Quadrupole, Sextupole"
   ]
  },
  {
   "cell_type": "code",
   "execution_count": 2,
   "metadata": {},
   "outputs": [
    {
     "name": "stdout",
     "output_type": "stream",
     "text": [
      "['L', '__add__', '__class__', '__class_getitem__', '__contains__', '__delattr__', '__dir__', '__doc__', '__eq__', '__format__', '__ge__', '__getattribute__', '__getitem__', '__getnewargs__', '__getstate__', '__gt__', '__hash__', '__init__', '__init_subclass__', '__iter__', '__le__', '__len__', '__lt__', '__match_args__', '__module__', '__mul__', '__ne__', '__new__', '__reduce__', '__reduce_ex__', '__repr__', '__rmul__', '__setattr__', '__sizeof__', '__slots__', '__str__', '__subclasshook__', '_asdict', '_field_defaults', '_fields', '_make', '_replace', 'count', 'index']\n",
      "['DG', 'E1', 'E2', 'FINT', 'FINTX', 'FRINGE_AT', 'FRINGE_TYPE', 'G', 'HGAP', 'HGAPX', 'L', 'P0C', 'TILT', '__add__', '__class__', '__class_getitem__', '__contains__', '__delattr__', '__dir__', '__doc__', '__eq__', '__format__', '__ge__', '__getattribute__', '__getitem__', '__getnewargs__', '__getstate__', '__gt__', '__hash__', '__init__', '__init_subclass__', '__iter__', '__le__', '__len__', '__lt__', '__match_args__', '__module__', '__mul__', '__ne__', '__new__', '__reduce__', '__reduce_ex__', '__repr__', '__rmul__', '__setattr__', '__sizeof__', '__slots__', '__str__', '__subclasshook__', '_asdict', '_field_defaults', '_fields', '_make', '_replace', 'count', 'index']\n",
      "<class 'bmadx.structures.Drift'>\n",
      "<class 'bmadx.structures.SBend'>\n",
      "1.0\n",
      "<class 'bmadx.structures.SBend'>\n",
      "1.0\n",
      "<class 'bmadx.structures.SBend'>\n",
      "1.0\n",
      "<class 'bmadx.structures.SBend'>\n",
      "1.0\n",
      "<class 'bmadx.structures.SBend'>\n",
      "1.0\n",
      "<class 'bmadx.structures.SBend'>\n",
      "1.0\n",
      "<class 'bmadx.structures.SBend'>\n",
      "1.0\n",
      "<class 'bmadx.structures.SBend'>\n",
      "1.0\n",
      "<class 'bmadx.structures.SBend'>\n",
      "1.0\n",
      "<class 'bmadx.structures.SBend'>\n",
      "1.0\n",
      "<class 'bmadx.structures.Drift'>\n",
      "<class 'bmadx.structures.Drift'>\n",
      "<class 'bmadx.structures.Drift'>\n",
      "<class 'bmadx.structures.Drift'>\n",
      "<class 'bmadx.structures.Drift'>\n"
     ]
    },
    {
     "data": {
      "text/plain": [
       "'\\ncsr_3d.run()\\ncsr_3d.save_data(directory=\"/Users/amf16/Desktop/SULI 2024/Simulation Output\", filename=\"new_code_data.h5\")\\n'"
      ]
     },
     "execution_count": 2,
     "metadata": {},
     "output_type": "execute_result"
    }
   ],
   "source": [
    "%matplotlib widget\n",
    "%load_ext line_profiler\n",
    "csr_3d = CSR3D(input_file= 'input/dipole_config.yaml')\n",
    "\n",
    "\n",
    "\n",
    "csr_3d.run()\n",
    "#csr_3d.save_data(directory=\"/Users/amf16/Desktop/SULI 2024/Simulation Output\", filename=\"new_code_data.h5\")\n",
    "\n",
    "#create_beam_gif(csr_3d.step_snapshots)\n",
    "\n",
    "#%lprun -f Step_Snapshot.populate_2D_histograms csr_3d.run()"
   ]
  }
 ],
 "metadata": {
  "kernelspec": {
   "display_name": "pydfcsr",
   "language": "python",
   "name": "python3"
  },
  "language_info": {
   "codemirror_mode": {
    "name": "ipython",
    "version": 3
   },
   "file_extension": ".py",
   "mimetype": "text/x-python",
   "name": "python",
   "nbconvert_exporter": "python",
   "pygments_lexer": "ipython3",
   "version": "3.12.4"
  }
 },
 "nbformat": 4,
 "nbformat_minor": 2
}
