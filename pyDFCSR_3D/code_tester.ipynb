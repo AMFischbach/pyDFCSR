{
 "cells": [
  {
   "cell_type": "code",
   "execution_count": 1,
   "metadata": {},
   "outputs": [],
   "source": [
    "from csr3d import CSR3D"
   ]
  },
  {
   "cell_type": "code",
   "execution_count": 2,
   "metadata": {},
   "outputs": [
    {
     "name": "stdout",
     "output_type": "stream",
     "text": [
      "Beam at position 0 is written to 0.h5\n",
      "Beam at position 0.9 is written to 9.h5\n",
      "Beam at position 1.6 is written to 16.h5\n"
     ]
    }
   ],
   "source": [
    "%matplotlib widget\n",
    "%load_ext line_profiler\n",
    "csr_3d = CSR3D(input_file= 'input/dipole_config.yaml')\n",
    "\n",
    "csr_3d.run()\n",
    "csr_3d.save_data(directory=\"/Users/treyfischbach/Desktop/Stuff/Research/SLAC 2024/Program Output/Benchmarking new code to old code\", filename=\"new_code_data.h5\")\n",
    "\n",
    "#create_beam_gif(csr_3d.step_snapshots)\n",
    "\n",
    "#%lprun -f Step_Snapshot.populate_2D_histograms csr_3d.run()"
   ]
  }
 ],
 "metadata": {
  "kernelspec": {
   "display_name": "pydfcsr",
   "language": "python",
   "name": "python3"
  },
  "language_info": {
   "codemirror_mode": {
    "name": "ipython",
    "version": 3
   },
   "file_extension": ".py",
   "mimetype": "text/x-python",
   "name": "python",
   "nbconvert_exporter": "python",
   "pygments_lexer": "ipython3",
   "version": "3.12.4"
  }
 },
 "nbformat": 4,
 "nbformat_minor": 2
}
