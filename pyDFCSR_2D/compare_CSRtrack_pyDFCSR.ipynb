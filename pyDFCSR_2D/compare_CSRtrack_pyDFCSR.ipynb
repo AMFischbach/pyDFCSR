{
 "cells": [
  {
   "cell_type": "markdown",
   "id": "2d7b3ac2",
   "metadata": {},
   "source": [
    "## Load CSRtrack Data"
   ]
  },
  {
   "cell_type": "code",
   "execution_count": null,
   "id": "initial_id",
   "metadata": {
    "collapsed": true,
    "jupyter": {
     "is_executing": true
    }
   },
   "outputs": [],
   "source": [
    "import numpy as np\n",
    "import matplotlib.pyplot as plt\n",
    "from mpl_toolkits.mplot3d import Axes3D"
   ]
  },
  {
   "cell_type": "code",
   "execution_count": 2,
   "id": "491293238992d0aa",
   "metadata": {},
   "outputs": [],
   "source": [
    "def histogram_cic_1d(q1, w, nbins, bins_start, bins_end):\n",
    "    \"\"\"\n",
    "    Return an 1D histogram of the values in `q1` weighted by `w`,\n",
    "    consisting of `nbins` evenly-spaced bins between `bins_start`\n",
    "    and `bins_end`. Contribution to each bins is determined by the\n",
    "    CIC weighting scheme (i.e. linear weights).\n",
    "    Source: https://github.com/openPMD/openPMD-viewer/blob/dev/openpmd_viewer/openpmd_timeseries/utilities.py\n",
    "    \"\"\"\n",
    "    # Define various scalars\n",
    "    bin_spacing = (bins_end - bins_start) / nbins\n",
    "    inv_spacing = 1. / bin_spacing\n",
    "    n_ptcl = len(w)\n",
    "\n",
    "    # Allocate array for histogrammed data\n",
    "    hist_data = np.zeros(nbins, dtype=np.float64)\n",
    "\n",
    "    # Go through particle array and bin the data\n",
    "    for i in range(n_ptcl):\n",
    "        # Calculate the index of lower bin to which this particle contributes\n",
    "        q1_cell = (q1[i] - bins_start) * inv_spacing\n",
    "        i_low_bin = int(math.floor(q1_cell))\n",
    "        # Calculate corresponding CIC shape and deposit the weight\n",
    "        S_low = 1. - (q1_cell - i_low_bin)\n",
    "        if (i_low_bin >= 0) and (i_low_bin < nbins):\n",
    "            hist_data[i_low_bin] += w[i] * S_low\n",
    "        if (i_low_bin + 1 >= 0) and (i_low_bin + 1 < nbins):\n",
    "            hist_data[i_low_bin + 1] += w[i] * (1. - S_low)\n",
    "\n",
    "    return (hist_data)\n",
    "\n",
    "\n",
    "\n",
    "def histogram_cic_2d(q1, q2, w,\n",
    "                     nbins_1, bins_start_1, bins_end_1,\n",
    "                     nbins_2, bins_start_2, bins_end_2):\n",
    "    \"\"\"\n",
    "    Return an 2D histogram of the values in `q1` and `q2` weighted by `w`,\n",
    "    consisting of `nbins_1` bins in the first dimension and `nbins_2` bins\n",
    "    in the second dimension.\n",
    "    Contribution to each bins is determined by the\n",
    "    CIC weighting scheme (i.e. linear weights).\n",
    "    Source:https://github.com/openPMD/openPMD-viewer/blob/dev/openpmd_viewer/openpmd_timeseries/utilities.py\n",
    "    \"\"\"\n",
    "    # Define various scalars\n",
    "    bin_spacing_1 = (bins_end_1 - bins_start_1) / nbins_1\n",
    "    inv_spacing_1 = 1. / bin_spacing_1\n",
    "    bin_spacing_2 = (bins_end_2 - bins_start_2) / nbins_2\n",
    "    inv_spacing_2 = 1. / bin_spacing_2\n",
    "    n_ptcl = len(w)\n",
    "\n",
    "    # Allocate array for histogrammed data\n",
    "    hist_data = np.zeros((nbins_1, nbins_2), dtype=np.float64)\n",
    "\n",
    "    # Go through particle array and bin the data\n",
    "    for i in range(n_ptcl):\n",
    "\n",
    "        # Calculate the index of lower bin to which this particle contributes\n",
    "        q1_cell = (q1[i] - bins_start_1) * inv_spacing_1\n",
    "        q2_cell = (q2[i] - bins_start_2) * inv_spacing_2\n",
    "        i1_low_bin = int(math.floor(q1_cell))\n",
    "        i2_low_bin = int(math.floor(q2_cell))\n",
    "\n",
    "        # Calculate corresponding CIC shape and deposit the weight\n",
    "        S1_low = 1. - (q1_cell - i1_low_bin)\n",
    "        S2_low = 1. - (q2_cell - i2_low_bin)\n",
    "        if (i1_low_bin >= 0) and (i1_low_bin < nbins_1):\n",
    "            if (i2_low_bin >= 0) and (i2_low_bin < nbins_2):\n",
    "                hist_data[i1_low_bin, i2_low_bin] += w[i] * S1_low * S2_low\n",
    "            if (i2_low_bin + 1 >= 0) and (i2_low_bin + 1 < nbins_2):\n",
    "                hist_data[i1_low_bin, i2_low_bin + 1] += w[i] * S1_low * (1. - S2_low)\n",
    "        if (i1_low_bin + 1 >= 0) and (i1_low_bin + 1 < nbins_1):\n",
    "            if (i2_low_bin >= 0) and (i2_low_bin < nbins_2):\n",
    "                hist_data[i1_low_bin + 1, i2_low_bin] += w[i] * (1. - S1_low) * S2_low\n",
    "            if (i2_low_bin + 1 >= 0) and (i2_low_bin + 1 < nbins_2):\n",
    "                hist_data[i1_low_bin + 1, i2_low_bin + 1] += w[i] * (1. - S1_low) * (1. - S2_low)\n",
    "\n",
    "    return (hist_data)\n"
   ]
  },
  {
   "cell_type": "code",
   "execution_count": null,
   "id": "8b0f0a21",
   "metadata": {},
   "outputs": [],
   "source": []
  }
 ],
 "metadata": {
  "kernelspec": {
   "display_name": "Python 3 (ipykernel)",
   "language": "python",
   "name": "python3"
  },
  "language_info": {
   "codemirror_mode": {
    "name": "ipython",
    "version": 3
   },
   "file_extension": ".py",
   "mimetype": "text/x-python",
   "name": "python",
   "nbconvert_exporter": "python",
   "pygments_lexer": "ipython3",
   "version": "3.9.16"
  }
 },
 "nbformat": 4,
 "nbformat_minor": 5
}
