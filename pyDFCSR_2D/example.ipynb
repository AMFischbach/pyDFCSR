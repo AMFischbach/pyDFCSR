{
 "cells": [
  {
   "cell_type": "code",
   "execution_count": 1,
   "metadata": {
    "ExecuteTime": {
     "end_time": "2023-05-02T08:46:34.816028Z",
     "start_time": "2023-05-02T08:46:31.993871Z"
    },
    "tags": []
   },
   "outputs": [],
   "source": [
    "import numpy as np\n",
    "\n",
    "from CSR import *\n",
    "import matplotlib.pyplot as plt\n",
    "from matplotlib import cm\n",
    "import h5py\n",
    "from tools import plot_surface"
   ]
  },
  {
   "cell_type": "markdown",
   "metadata": {},
   "source": [
    "## Run DFCSR"
   ]
  },
  {
   "cell_type": "code",
   "execution_count": 2,
   "metadata": {
    "ExecuteTime": {
     "end_time": "2023-05-02T08:45:07.998276Z",
     "start_time": "2023-05-02T08:44:52.517325Z"
    },
    "collapsed": false,
    "jupyter": {
     "outputs_hidden": false
    },
    "tags": []
   },
   "outputs": [],
   "source": [
    "testCSR = CSR2D(input_file= 'input/dipole_config.yaml')"
   ]
  },
  {
   "cell_type": "code",
   "execution_count": 3,
   "metadata": {
    "tags": []
   },
   "outputs": [
    {
     "name": "stdout",
     "output_type": "stream",
     "text": [
      "Calculating CSR at s= 0.1\n",
      "--- 14.449969291687012 seconds ---\n",
      "Beams written to  G:\\My Drive\\Stanford\\research\\FEL\\CSR\\pyDFCSR\\pyDFCSR_2D\\output/chirp-2023-05-03T21_57_20-07_00-particles.h5\n",
      "Wakes written to  G:\\My Drive\\Stanford\\research\\FEL\\CSR\\pyDFCSR\\pyDFCSR_2D\\output/chirp-2023-05-03T21_57_20-07_00-wakes.h5\n",
      "Finish step 2 in 15.691721200942993 seconds\n",
      "Calculating CSR at s= 0.2\n",
      "--- 12.375654935836792 seconds ---\n",
      "Beams written to  G:\\My Drive\\Stanford\\research\\FEL\\CSR\\pyDFCSR\\pyDFCSR_2D\\output/chirp-2023-05-03T21_57_20-07_00-particles.h5\n",
      "Wakes written to  G:\\My Drive\\Stanford\\research\\FEL\\CSR\\pyDFCSR\\pyDFCSR_2D\\output/chirp-2023-05-03T21_57_20-07_00-wakes.h5\n",
      "Finish step 3 in 13.680602073669434 seconds\n",
      "Calculating CSR at s= 0.30000000000000004\n",
      "--- 13.001884937286377 seconds ---\n",
      "Beams written to  G:\\My Drive\\Stanford\\research\\FEL\\CSR\\pyDFCSR\\pyDFCSR_2D\\output/chirp-2023-05-03T21_57_20-07_00-particles.h5\n",
      "Wakes written to  G:\\My Drive\\Stanford\\research\\FEL\\CSR\\pyDFCSR\\pyDFCSR_2D\\output/chirp-2023-05-03T21_57_20-07_00-wakes.h5\n",
      "Finish step 4 in 14.440627574920654 seconds\n",
      "Calculating CSR at s= 0.4\n",
      "--- 12.906738042831421 seconds ---\n",
      "Beams written to  G:\\My Drive\\Stanford\\research\\FEL\\CSR\\pyDFCSR\\pyDFCSR_2D\\output/chirp-2023-05-03T21_57_20-07_00-particles.h5\n",
      "Wakes written to  G:\\My Drive\\Stanford\\research\\FEL\\CSR\\pyDFCSR\\pyDFCSR_2D\\output/chirp-2023-05-03T21_57_20-07_00-wakes.h5\n",
      "Finish step 5 in 14.259300470352173 seconds\n",
      "Calculating CSR at s= 0.5\n",
      "--- 12.711758375167847 seconds ---\n",
      "Beams written to  G:\\My Drive\\Stanford\\research\\FEL\\CSR\\pyDFCSR\\pyDFCSR_2D\\output/chirp-2023-05-03T21_57_20-07_00-particles.h5\n",
      "Wakes written to  G:\\My Drive\\Stanford\\research\\FEL\\CSR\\pyDFCSR\\pyDFCSR_2D\\output/chirp-2023-05-03T21_57_20-07_00-wakes.h5\n",
      "Finish step 6 in 14.06069564819336 seconds\n",
      "Calculating CSR at s= 0.6\n",
      "--- 13.480512380599976 seconds ---\n",
      "Beams written to  G:\\My Drive\\Stanford\\research\\FEL\\CSR\\pyDFCSR\\pyDFCSR_2D\\output/chirp-2023-05-03T21_57_20-07_00-particles.h5\n",
      "Wakes written to  G:\\My Drive\\Stanford\\research\\FEL\\CSR\\pyDFCSR\\pyDFCSR_2D\\output/chirp-2023-05-03T21_57_20-07_00-wakes.h5\n",
      "Finish step 7 in 14.822211265563965 seconds\n",
      "Calculating CSR at s= 0.7\n",
      "--- 13.24440622329712 seconds ---\n",
      "Beams written to  G:\\My Drive\\Stanford\\research\\FEL\\CSR\\pyDFCSR\\pyDFCSR_2D\\output/chirp-2023-05-03T21_57_20-07_00-particles.h5\n",
      "Wakes written to  G:\\My Drive\\Stanford\\research\\FEL\\CSR\\pyDFCSR\\pyDFCSR_2D\\output/chirp-2023-05-03T21_57_20-07_00-wakes.h5\n",
      "Finish step 8 in 14.594749212265015 seconds\n",
      "Calculating CSR at s= 0.7999999999999999\n",
      "--- 12.751061201095581 seconds ---\n",
      "Beams written to  G:\\My Drive\\Stanford\\research\\FEL\\CSR\\pyDFCSR\\pyDFCSR_2D\\output/chirp-2023-05-03T21_57_20-07_00-particles.h5\n",
      "Wakes written to  G:\\My Drive\\Stanford\\research\\FEL\\CSR\\pyDFCSR\\pyDFCSR_2D\\output/chirp-2023-05-03T21_57_20-07_00-wakes.h5\n",
      "Finish step 9 in 14.186615467071533 seconds\n",
      "Calculating CSR at s= 0.8999999999999999\n",
      "--- 12.329496622085571 seconds ---\n",
      "Beams written to  G:\\My Drive\\Stanford\\research\\FEL\\CSR\\pyDFCSR\\pyDFCSR_2D\\output/chirp-2023-05-03T21_57_20-07_00-particles.h5\n",
      "Wakes written to  G:\\My Drive\\Stanford\\research\\FEL\\CSR\\pyDFCSR\\pyDFCSR_2D\\output/chirp-2023-05-03T21_57_20-07_00-wakes.h5\n",
      "Finish step 10 in 13.66149377822876 seconds\n",
      "Calculating CSR at s= 0.9999999999999999\n",
      "--- 12.221165418624878 seconds ---\n",
      "Beams written to  G:\\My Drive\\Stanford\\research\\FEL\\CSR\\pyDFCSR\\pyDFCSR_2D\\output/chirp-2023-05-03T21_57_20-07_00-particles.h5\n",
      "Wakes written to  G:\\My Drive\\Stanford\\research\\FEL\\CSR\\pyDFCSR\\pyDFCSR_2D\\output/chirp-2023-05-03T21_57_20-07_00-wakes.h5\n",
      "Finish step 11 in 13.604185581207275 seconds\n",
      "Calculating CSR at s= 1.0999999999999999\n",
      "--- 12.270210981369019 seconds ---\n",
      "Beams written to  G:\\My Drive\\Stanford\\research\\FEL\\CSR\\pyDFCSR\\pyDFCSR_2D\\output/chirp-2023-05-03T21_57_20-07_00-particles.h5\n",
      "Wakes written to  G:\\My Drive\\Stanford\\research\\FEL\\CSR\\pyDFCSR\\pyDFCSR_2D\\output/chirp-2023-05-03T21_57_20-07_00-wakes.h5\n",
      "Finish step 12 in 13.844908237457275 seconds\n",
      "Calculating CSR at s= 1.2\n",
      "--- 12.232298374176025 seconds ---\n",
      "Beams written to  G:\\My Drive\\Stanford\\research\\FEL\\CSR\\pyDFCSR\\pyDFCSR_2D\\output/chirp-2023-05-03T21_57_20-07_00-particles.h5\n",
      "Wakes written to  G:\\My Drive\\Stanford\\research\\FEL\\CSR\\pyDFCSR\\pyDFCSR_2D\\output/chirp-2023-05-03T21_57_20-07_00-wakes.h5\n",
      "Finish step 13 in 13.566616535186768 seconds\n",
      "Calculating CSR at s= 1.3\n",
      "--- 12.088439464569092 seconds ---\n",
      "Beams written to  G:\\My Drive\\Stanford\\research\\FEL\\CSR\\pyDFCSR\\pyDFCSR_2D\\output/chirp-2023-05-03T21_57_20-07_00-particles.h5\n",
      "Wakes written to  G:\\My Drive\\Stanford\\research\\FEL\\CSR\\pyDFCSR\\pyDFCSR_2D\\output/chirp-2023-05-03T21_57_20-07_00-wakes.h5\n",
      "Finish step 14 in 13.437798023223877 seconds\n",
      "Calculating CSR at s= 1.4000000000000001\n",
      "--- 12.29091763496399 seconds ---\n",
      "Beams written to  G:\\My Drive\\Stanford\\research\\FEL\\CSR\\pyDFCSR\\pyDFCSR_2D\\output/chirp-2023-05-03T21_57_20-07_00-particles.h5\n",
      "Wakes written to  G:\\My Drive\\Stanford\\research\\FEL\\CSR\\pyDFCSR\\pyDFCSR_2D\\output/chirp-2023-05-03T21_57_20-07_00-wakes.h5\n",
      "Finish step 15 in 13.888201236724854 seconds\n",
      "Statistics written to  G:\\My Drive\\Stanford\\research\\FEL\\CSR\\pyDFCSR\\pyDFCSR_2D\\output/chirp-2023-05-03T21_57_20-07_00-statistics.h5\n"
     ]
    }
   ],
   "source": [
    "testCSR.run()"
   ]
  },
  {
   "cell_type": "markdown",
   "metadata": {},
   "source": [
    "## Parallel Run with MPI"
   ]
  },
  {
   "cell_type": "code",
   "execution_count": null,
   "metadata": {},
   "outputs": [],
   "source": [
    "# input yaml file in \"./input/dipole_config.yaml\"\n",
    "!mpirun -n 4 python  -m pyDFCSR_mpi_run ./input/chicane_config.yaml"
   ]
  },
  {
   "cell_type": "markdown",
   "metadata": {},
   "source": [
    "## Plot output"
   ]
  },
  {
   "cell_type": "code",
   "execution_count": 4,
   "metadata": {
    "collapsed": false,
    "jupyter": {
     "outputs_hidden": false
    },
    "tags": []
   },
   "outputs": [],
   "source": [
    "from plot_from_output import DFCSR_postprocessor\n",
    "\n",
    "DFplot = DFCSR_postprocessor(run_name = 'chirp-2023-05-02T18_29_02-07_00',\n",
    "                             work_dir = './output')"
   ]
  },
  {
   "cell_type": "code",
   "execution_count": null,
   "metadata": {},
   "outputs": [],
   "source": [
    "# Plot beam size along the lattice\n",
    "DFplot.plot_stats()"
   ]
  }
 ],
 "metadata": {
  "kernelspec": {
   "display_name": "Python 3 (ipykernel)",
   "language": "python",
   "name": "python3"
  },
  "language_info": {
   "codemirror_mode": {
    "name": "ipython",
    "version": 3
   },
   "file_extension": ".py",
   "mimetype": "text/x-python",
   "name": "python",
   "nbconvert_exporter": "python",
   "pygments_lexer": "ipython3",
   "version": "3.10.10"
  }
 },
 "nbformat": 4,
 "nbformat_minor": 4
}
