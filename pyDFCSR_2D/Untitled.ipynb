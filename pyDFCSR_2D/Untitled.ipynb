{
 "cells": [
  {
   "cell_type": "code",
   "execution_count": 7,
   "id": "db3f0920",
   "metadata": {},
   "outputs": [],
   "source": [
    "from distgen import Generator\n",
    "import numpy as np"
   ]
  },
  {
   "cell_type": "code",
   "execution_count": 8,
   "id": "ea8edf0d",
   "metadata": {},
   "outputs": [],
   "source": [
    "filename = './input/dipole_init_beam.yaml'\n",
    "gen = Generator(filename)\n",
    "gen.run()\n",
    "pg = gen.particles\n",
    "gamma = pg.gamma\n",
    "delta = (gamma - np.mean(gamma))/np.mean(gamma)\n",
    "particles = np.vstack((pg.x, pg.xp, pg.y, pg.yp, pg.z, delta)).T\n",
    "charge = pg['charge']\n",
    "init_energy = np.mean(pg['energy'])"
   ]
  },
  {
   "cell_type": "code",
   "execution_count": 15,
   "id": "0d181b4a",
   "metadata": {},
   "outputs": [],
   "source": [
    "np.savetxt('./input_beam/dipole_beam.dat', particles)\n"
   ]
  },
  {
   "cell_type": "code",
   "execution_count": 17,
   "id": "c31d5689",
   "metadata": {},
   "outputs": [
    {
     "data": {
      "text/plain": [
       "999.9999999999982"
      ]
     },
     "execution_count": 17,
     "metadata": {},
     "output_type": "execute_result"
    }
   ],
   "source": [
    "charge*1e12"
   ]
  },
  {
   "cell_type": "code",
   "execution_count": 18,
   "id": "2818ef60",
   "metadata": {},
   "outputs": [
    {
     "data": {
      "text/plain": [
       "5.000000026236997"
      ]
     },
     "execution_count": 18,
     "metadata": {},
     "output_type": "execute_result"
    }
   ],
   "source": [
    "init_energy/1e9"
   ]
  },
  {
   "cell_type": "code",
   "execution_count": 19,
   "id": "f20d20d0",
   "metadata": {},
   "outputs": [],
   "source": [
    "import scipy"
   ]
  },
  {
   "cell_type": "code",
   "execution_count": 20,
   "id": "a56f0c18",
   "metadata": {},
   "outputs": [
    {
     "data": {
      "text/plain": [
       "510998.94999999995"
      ]
     },
     "execution_count": 20,
     "metadata": {},
     "output_type": "execute_result"
    }
   ],
   "source": [
    "scipy.constants.value('electron mass energy equivalent in MeV')*1e6"
   ]
  },
  {
   "cell_type": "code",
   "id": "c79e6b31",
   "metadata": {
    "ExecuteTime": {
     "end_time": "2024-04-18T21:52:50.442233Z",
     "start_time": "2024-04-18T21:52:50.410997Z"
    }
   },
   "source": [
    "L_bend = 2*0.5315\n",
    "P_GeV = 10.0\n",
    "B_field = 0.3767/(L_bend/2)\n",
    "\n",
    "rho = 1/0.3*P_GeV/B_field\n",
    "print(rho)\n",
    "phi_m = L_bend/rho\n",
    "print(phi_m)"
   ],
   "outputs": [
    {
     "name": "stdout",
     "output_type": "stream",
     "text": [
      "47.03123617378993\n",
      "0.022602\n"
     ]
    }
   ],
   "execution_count": 1
  },
  {
   "metadata": {
    "ExecuteTime": {
     "end_time": "2024-04-18T21:53:47.696055Z",
     "start_time": "2024-04-18T21:53:47.683051Z"
    }
   },
   "cell_type": "code",
   "source": "L_bend\n",
   "id": "5e8d9cf442e606da",
   "outputs": [
    {
     "data": {
      "text/plain": [
       "1.063"
      ]
     },
     "execution_count": 2,
     "metadata": {},
     "output_type": "execute_result"
    }
   ],
   "execution_count": 2
  },
  {
   "metadata": {},
   "cell_type": "code",
   "outputs": [],
   "execution_count": null,
   "source": "",
   "id": "87862a7e9b8a9e17"
  }
 ],
 "metadata": {
  "kernelspec": {
   "display_name": "Python 3 (ipykernel)",
   "language": "python",
   "name": "python3"
  },
  "language_info": {
   "codemirror_mode": {
    "name": "ipython",
    "version": 3
   },
   "file_extension": ".py",
   "mimetype": "text/x-python",
   "name": "python",
   "nbconvert_exporter": "python",
   "pygments_lexer": "ipython3",
   "version": "3.9.16"
  }
 },
 "nbformat": 4,
 "nbformat_minor": 5
}
