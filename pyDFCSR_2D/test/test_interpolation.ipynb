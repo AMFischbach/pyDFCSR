{
 "cells": [
  {
   "cell_type": "code",
   "execution_count": 2,
   "metadata": {
    "ExecuteTime": {
     "end_time": "2023-09-18T18:40:24.162737800Z",
     "start_time": "2023-09-18T18:40:24.152668300Z"
    }
   },
   "outputs": [],
   "source": [
    "sys.path.append()\n",
    "from pyDFCSR_2D.interp3D import TrilinearInterpolator_vec, TrilinearInterpolator"
   ]
  },
  {
   "cell_type": "code",
   "execution_count": 3,
   "metadata": {
    "ExecuteTime": {
     "end_time": "2023-09-18T18:40:25.242627200Z",
     "start_time": "2023-09-18T18:40:24.989049800Z"
    }
   },
   "outputs": [],
   "source": [
    "import numpy as np\n",
    "from scipy.interpolate import RegularGridInterpolator"
   ]
  },
  {
   "cell_type": "code",
   "execution_count": 4,
   "metadata": {
    "ExecuteTime": {
     "end_time": "2023-09-18T18:40:25.962668500Z",
     "start_time": "2023-09-18T18:40:25.949471300Z"
    }
   },
   "outputs": [],
   "source": [
    "def f(x, y, z):\n",
    "    return 2 * x**3 + 3 * y**2 - z"
   ]
  },
  {
   "cell_type": "code",
   "execution_count": 5,
   "metadata": {
    "ExecuteTime": {
     "end_time": "2023-09-18T18:40:26.522444300Z",
     "start_time": "2023-09-18T18:40:26.502458900Z"
    }
   },
   "outputs": [],
   "source": [
    "# input points\n",
    "x = np.linspace(1, 4, 11)\n",
    "y = np.linspace(4, 7, 22)\n",
    "z = np.linspace(7, 9, 33)\n",
    "xg, yg ,zg = np.meshgrid(x, y, z, indexing='ij', sparse=True)\n",
    "data = f(xg, yg, zg)\n"
   ]
  },
  {
   "cell_type": "code",
   "execution_count": 6,
   "metadata": {
    "ExecuteTime": {
     "end_time": "2023-09-18T18:40:27.036002100Z",
     "start_time": "2023-09-18T18:40:27.011143300Z"
    }
   },
   "outputs": [],
   "source": [
    "interp = RegularGridInterpolator((x, y, z), data)"
   ]
  },
  {
   "cell_type": "code",
   "execution_count": 7,
   "metadata": {
    "ExecuteTime": {
     "end_time": "2023-09-18T18:40:27.468906200Z",
     "start_time": "2023-09-18T18:40:27.460891700Z"
    }
   },
   "outputs": [
    {
     "data": {
      "text/plain": [
       "array([125.80469388])"
      ]
     },
     "execution_count": 7,
     "metadata": {},
     "output_type": "execute_result"
    }
   ],
   "source": [
    "pts = np.array([2.1, 6.2, 8.3])\n",
    "interp(pts)"
   ]
  },
  {
   "cell_type": "code",
   "execution_count": 8,
   "metadata": {
    "ExecuteTime": {
     "end_time": "2023-09-18T18:40:29.302568600Z",
     "start_time": "2023-09-18T18:40:28.566403400Z"
    }
   },
   "outputs": [],
   "source": [
    "t = TrilinearInterpolator_vec(data, x, y, z)"
   ]
  },
  {
   "cell_type": "code",
   "execution_count": 9,
   "metadata": {
    "ExecuteTime": {
     "end_time": "2023-09-18T18:40:29.448412700Z",
     "start_time": "2023-09-18T18:40:29.302568600Z"
    }
   },
   "outputs": [
    {
     "ename": "TypingError",
     "evalue": "Failed in nopython mode pipeline (step: nopython frontend)\n\u001B[1m\u001B[1m\u001B[1m\u001B[1m- Resolution failure for literal arguments:\n\u001B[1mFailed in nopython mode pipeline (step: nopython frontend)\n\u001B[1mUntyped global name 'interpolate3D_vec':\u001B[0m \u001B[1m\u001B[1mCannot determine Numba type of <class 'function'>\u001B[0m\n\u001B[1m\nFile \"..\\interp3D.py\", line 147:\u001B[0m\n\u001B[1m    def interp(self, xval, yval, zval):\n\u001B[1m        return interpolate3D_vec(xval, yval, zval, self.data,\n\u001B[0m        \u001B[1m^\u001B[0m\u001B[0m\n\u001B[0m\u001B[0m\n\u001B[0m\u001B[1m- Resolution failure for non-literal arguments:\n\u001B[1mNone\u001B[0m\n\u001B[0m\u001B[0m\n\u001B[0m\u001B[1mDuring: resolving callee type: BoundFunction((<class 'numba.core.types.misc.ClassInstanceType'>, 'interp') for instance.jitclass.TrilinearInterpolator_vec#1b8318c1400<min_x:float64,min_y:float64,min_z:float64,max_x:float64,max_y:float64,max_z:float64,delta_x:float64,delta_y:float64,delta_z:float64,data:array(float64, 3d, A)>)\u001B[0m\n\u001B[0m\u001B[1mDuring: typing of call at <string> (3)\n\u001B[0m\n\u001B[1m\nFile \"<string>\", line 3:\u001B[0m\n\u001B[1m<source missing, REPL/exec in use?>\u001B[0m\n",
     "output_type": "error",
     "traceback": [
      "\u001B[1;31m---------------------------------------------------------------------------\u001B[0m",
      "\u001B[1;31mTypingError\u001B[0m                               Traceback (most recent call last)",
      "Cell \u001B[1;32mIn[9], line 1\u001B[0m\n\u001B[1;32m----> 1\u001B[0m test \u001B[38;5;241m=\u001B[39m \u001B[43mt\u001B[49m\u001B[38;5;241;43m.\u001B[39;49m\u001B[43minterp\u001B[49m\u001B[43m(\u001B[49m\u001B[43mnp\u001B[49m\u001B[38;5;241;43m.\u001B[39;49m\u001B[43marray\u001B[49m\u001B[43m(\u001B[49m\u001B[43m[\u001B[49m\u001B[38;5;241;43m2.1\u001B[39;49m\u001B[43m]\u001B[49m\u001B[43m)\u001B[49m\u001B[43m,\u001B[49m\u001B[43m \u001B[49m\u001B[43mnp\u001B[49m\u001B[38;5;241;43m.\u001B[39;49m\u001B[43marray\u001B[49m\u001B[43m(\u001B[49m\u001B[43m[\u001B[49m\u001B[38;5;241;43m6.2\u001B[39;49m\u001B[43m]\u001B[49m\u001B[43m)\u001B[49m\u001B[43m,\u001B[49m\u001B[43m \u001B[49m\u001B[43mnp\u001B[49m\u001B[38;5;241;43m.\u001B[39;49m\u001B[43marray\u001B[49m\u001B[43m(\u001B[49m\u001B[43m[\u001B[49m\u001B[38;5;241;43m8.3\u001B[39;49m\u001B[43m]\u001B[49m\u001B[43m)\u001B[49m\u001B[43m)\u001B[49m\n",
      "File \u001B[1;32m~\\miniconda3\\envs\\pyDFCSR\\lib\\site-packages\\numba\\experimental\\jitclass\\boxing.py:61\u001B[0m, in \u001B[0;36m_generate_method.<locals>.wrapper\u001B[1;34m(*args, **kwargs)\u001B[0m\n\u001B[0;32m     59\u001B[0m \u001B[38;5;129m@wraps\u001B[39m(func)\n\u001B[0;32m     60\u001B[0m \u001B[38;5;28;01mdef\u001B[39;00m \u001B[38;5;21mwrapper\u001B[39m(\u001B[38;5;241m*\u001B[39margs, \u001B[38;5;241m*\u001B[39m\u001B[38;5;241m*\u001B[39mkwargs):\n\u001B[1;32m---> 61\u001B[0m     \u001B[38;5;28;01mreturn\u001B[39;00m method(\u001B[38;5;241m*\u001B[39margs, \u001B[38;5;241m*\u001B[39m\u001B[38;5;241m*\u001B[39mkwargs)\n",
      "File \u001B[1;32m~\\miniconda3\\envs\\pyDFCSR\\lib\\site-packages\\numba\\core\\dispatcher.py:468\u001B[0m, in \u001B[0;36m_DispatcherBase._compile_for_args\u001B[1;34m(self, *args, **kws)\u001B[0m\n\u001B[0;32m    464\u001B[0m         msg \u001B[38;5;241m=\u001B[39m (\u001B[38;5;124mf\u001B[39m\u001B[38;5;124m\"\u001B[39m\u001B[38;5;132;01m{\u001B[39;00m\u001B[38;5;28mstr\u001B[39m(e)\u001B[38;5;241m.\u001B[39mrstrip()\u001B[38;5;132;01m}\u001B[39;00m\u001B[38;5;124m \u001B[39m\u001B[38;5;130;01m\\n\u001B[39;00m\u001B[38;5;130;01m\\n\u001B[39;00m\u001B[38;5;124mThis error may have been caused \u001B[39m\u001B[38;5;124m\"\u001B[39m\n\u001B[0;32m    465\u001B[0m                \u001B[38;5;124mf\u001B[39m\u001B[38;5;124m\"\u001B[39m\u001B[38;5;124mby the following argument(s):\u001B[39m\u001B[38;5;130;01m\\n\u001B[39;00m\u001B[38;5;132;01m{\u001B[39;00margs_str\u001B[38;5;132;01m}\u001B[39;00m\u001B[38;5;130;01m\\n\u001B[39;00m\u001B[38;5;124m\"\u001B[39m)\n\u001B[0;32m    466\u001B[0m         e\u001B[38;5;241m.\u001B[39mpatch_message(msg)\n\u001B[1;32m--> 468\u001B[0m     \u001B[43merror_rewrite\u001B[49m\u001B[43m(\u001B[49m\u001B[43me\u001B[49m\u001B[43m,\u001B[49m\u001B[43m \u001B[49m\u001B[38;5;124;43m'\u001B[39;49m\u001B[38;5;124;43mtyping\u001B[39;49m\u001B[38;5;124;43m'\u001B[39;49m\u001B[43m)\u001B[49m\n\u001B[0;32m    469\u001B[0m \u001B[38;5;28;01mexcept\u001B[39;00m errors\u001B[38;5;241m.\u001B[39mUnsupportedError \u001B[38;5;28;01mas\u001B[39;00m e:\n\u001B[0;32m    470\u001B[0m     \u001B[38;5;66;03m# Something unsupported is present in the user code, add help info\u001B[39;00m\n\u001B[0;32m    471\u001B[0m     error_rewrite(e, \u001B[38;5;124m'\u001B[39m\u001B[38;5;124munsupported_error\u001B[39m\u001B[38;5;124m'\u001B[39m)\n",
      "File \u001B[1;32m~\\miniconda3\\envs\\pyDFCSR\\lib\\site-packages\\numba\\core\\dispatcher.py:409\u001B[0m, in \u001B[0;36m_DispatcherBase._compile_for_args.<locals>.error_rewrite\u001B[1;34m(e, issue_type)\u001B[0m\n\u001B[0;32m    407\u001B[0m     \u001B[38;5;28;01mraise\u001B[39;00m e\n\u001B[0;32m    408\u001B[0m \u001B[38;5;28;01melse\u001B[39;00m:\n\u001B[1;32m--> 409\u001B[0m     \u001B[38;5;28;01mraise\u001B[39;00m e\u001B[38;5;241m.\u001B[39mwith_traceback(\u001B[38;5;28;01mNone\u001B[39;00m)\n",
      "\u001B[1;31mTypingError\u001B[0m: Failed in nopython mode pipeline (step: nopython frontend)\n\u001B[1m\u001B[1m\u001B[1m\u001B[1m- Resolution failure for literal arguments:\n\u001B[1mFailed in nopython mode pipeline (step: nopython frontend)\n\u001B[1mUntyped global name 'interpolate3D_vec':\u001B[0m \u001B[1m\u001B[1mCannot determine Numba type of <class 'function'>\u001B[0m\n\u001B[1m\nFile \"..\\interp3D.py\", line 147:\u001B[0m\n\u001B[1m    def interp(self, xval, yval, zval):\n\u001B[1m        return interpolate3D_vec(xval, yval, zval, self.data,\n\u001B[0m        \u001B[1m^\u001B[0m\u001B[0m\n\u001B[0m\u001B[0m\n\u001B[0m\u001B[1m- Resolution failure for non-literal arguments:\n\u001B[1mNone\u001B[0m\n\u001B[0m\u001B[0m\n\u001B[0m\u001B[1mDuring: resolving callee type: BoundFunction((<class 'numba.core.types.misc.ClassInstanceType'>, 'interp') for instance.jitclass.TrilinearInterpolator_vec#1b8318c1400<min_x:float64,min_y:float64,min_z:float64,max_x:float64,max_y:float64,max_z:float64,delta_x:float64,delta_y:float64,delta_z:float64,data:array(float64, 3d, A)>)\u001B[0m\n\u001B[0m\u001B[1mDuring: typing of call at <string> (3)\n\u001B[0m\n\u001B[1m\nFile \"<string>\", line 3:\u001B[0m\n\u001B[1m<source missing, REPL/exec in use?>\u001B[0m\n"
     ]
    }
   ],
   "source": [
    "test = t.interp(np.array([2.1]), np.array([6.2]), np.array([8.3]))"
   ]
  },
  {
   "cell_type": "code",
   "execution_count": 24,
   "metadata": {},
   "outputs": [
    {
     "data": {
      "text/plain": [
       "array([125.80469388])"
      ]
     },
     "execution_count": 24,
     "metadata": {},
     "output_type": "execute_result"
    }
   ],
   "source": [
    "x"
   ]
  },
  {
   "cell_type": "code",
   "execution_count": null,
   "metadata": {},
   "outputs": [],
   "source": []
  }
 ],
 "metadata": {
  "kernelspec": {
   "display_name": "Python 3 (ipykernel)",
   "language": "python",
   "name": "python3"
  },
  "language_info": {
   "codemirror_mode": {
    "name": "ipython",
    "version": 3
   },
   "file_extension": ".py",
   "mimetype": "text/x-python",
   "name": "python",
   "nbconvert_exporter": "python",
   "pygments_lexer": "ipython3",
   "version": "3.9.16"
  }
 },
 "nbformat": 4,
 "nbformat_minor": 4
}
