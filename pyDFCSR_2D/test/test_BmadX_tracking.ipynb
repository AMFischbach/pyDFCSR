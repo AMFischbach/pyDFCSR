{
 "cells": [
  {
   "cell_type": "code",
   "id": "initial_id",
   "metadata": {
    "tags": [],
    "ExecuteTime": {
     "end_time": "2024-06-18T18:05:40.196380Z",
     "start_time": "2024-06-18T18:05:40.183867Z"
    }
   },
   "source": [
    "import sys\n",
    "sys.path.insert(0,'../')"
   ],
   "outputs": [],
   "execution_count": 1
  },
  {
   "cell_type": "code",
   "id": "1c09edeb-3972-4f27-b035-d7114ab0f80d",
   "metadata": {
    "tags": [],
    "ExecuteTime": {
     "end_time": "2024-06-18T18:05:41.647051Z",
     "start_time": "2024-06-18T18:05:40.823084Z"
    }
   },
   "source": [
    "import numpy as np\n",
    "import matplotlib.pyplot as plt"
   ],
   "outputs": [],
   "execution_count": 2
  },
  {
   "cell_type": "code",
   "id": "f82a5310-65e6-4cd6-95f9-ad4be294df41",
   "metadata": {
    "tags": [],
    "ExecuteTime": {
     "end_time": "2024-06-18T18:05:42.248010Z",
     "start_time": "2024-06-18T18:05:42.242010Z"
    }
   },
   "source": [
    "from twiss import twiss_from_bmadx_particles"
   ],
   "outputs": [],
   "execution_count": 3
  },
  {
   "cell_type": "markdown",
   "id": "cb5e5048-788b-4210-91b4-63fe2a9db327",
   "metadata": {},
   "source": [
    "# Run each element'"
   ]
  },
  {
   "cell_type": "code",
   "id": "6dea9ae5-c689-40cb-8cbd-55a706841df7",
   "metadata": {
    "tags": [],
    "ExecuteTime": {
     "end_time": "2024-06-18T18:05:49.557107Z",
     "start_time": "2024-06-18T18:05:47.407299Z"
    }
   },
   "source": [
    "from bmadx import Particle, M_ELECTRON\n",
    "\n",
    "coords = np.ones(6)*1e-3\n",
    "s = 0.0\n",
    "p0c = 4e7\n",
    "p = Particle(*coords, s, p0c, M_ELECTRON)\n",
    "# Particle is a named tuple with: cannonical coords (x, px, y, py, z, pz), s, p0c, mc2:\n",
    "p"
   ],
   "outputs": [
    {
     "data": {
      "text/plain": [
       "Particle(x=0.001, px=0.001, y=0.001, py=0.001, z=0.001, pz=0.001, s=0.0, p0c=40000000.0, mc2=510998.94999999995)"
      ]
     },
     "execution_count": 4,
     "metadata": {},
     "output_type": "execute_result"
    }
   ],
   "execution_count": 4
  },
  {
   "cell_type": "code",
   "id": "904bc1a6-dfd8-41a6-96c8-3bd6ea6b5d97",
   "metadata": {
    "tags": [],
    "ExecuteTime": {
     "end_time": "2024-06-18T18:05:50.278200Z",
     "start_time": "2024-06-18T18:05:50.271689Z"
    }
   },
   "source": [
    "p.x"
   ],
   "outputs": [
    {
     "data": {
      "text/plain": [
       "0.001"
      ]
     },
     "execution_count": 5,
     "metadata": {},
     "output_type": "execute_result"
    }
   ],
   "execution_count": 5
  },
  {
   "cell_type": "code",
   "id": "45fa1db8-a014-4e9c-bd88-0fc6208372c8",
   "metadata": {
    "tags": [],
    "ExecuteTime": {
     "end_time": "2024-06-18T18:05:52.200817Z",
     "start_time": "2024-06-18T18:05:52.165721Z"
    }
   },
   "source": [
    "# Create particle beam\n",
    "n_particles = 10_000 # number of particles in beam\n",
    "coords = np.random.multivariate_normal(mean = np.zeros(6),\n",
    "                                       cov = 1e-6*np.identity(6),\n",
    "                                       size = n_particles\n",
    "                                      )\n",
    "beam = Particle(*coords.T, s, p0c, M_ELECTRON)\n",
    "beam"
   ],
   "outputs": [
    {
     "data": {
      "text/plain": [
       "Particle(x=array([ 1.59720099e-03, -3.03292591e-05,  1.00775559e-03, ...,\n",
       "        8.87461970e-05,  7.15770757e-04,  1.10062822e-03]), px=array([ 0.00051152,  0.00075348,  0.00140785, ...,  0.00062597,\n",
       "       -0.00163018, -0.00092975]), y=array([ 0.00024601,  0.00078812, -0.00027757, ...,  0.00058857,\n",
       "       -0.00214313,  0.00095517]), py=array([-0.00093862, -0.00052721, -0.00035101, ..., -0.00061451,\n",
       "       -0.00187383, -0.00230237]), z=array([ 0.00036695, -0.0005484 ,  0.00139066, ..., -0.00061582,\n",
       "        0.00079769, -0.00034668]), pz=array([ 0.00069881,  0.00031798, -0.0014666 , ..., -0.00045924,\n",
       "        0.00047633, -0.00027085]), s=0.0, p0c=40000000.0, mc2=510998.94999999995)"
      ]
     },
     "execution_count": 6,
     "metadata": {},
     "output_type": "execute_result"
    }
   ],
   "execution_count": 6
  },
  {
   "cell_type": "code",
   "id": "d5cb6fe6-bb2e-495e-9526-367edc37de6a",
   "metadata": {
    "tags": [],
    "ExecuteTime": {
     "end_time": "2024-06-18T18:07:17.071927Z",
     "start_time": "2024-06-18T18:07:17.063377Z"
    }
   },
   "source": [
    "from bmadx.pmd_utils import openpmd_to_bmadx_particles, bmadx_particles_to_openpmd\n",
    "tm = bmadx_particles_to_openpmd(beam)"
   ],
   "outputs": [],
   "execution_count": 9
  },
  {
   "metadata": {
    "ExecuteTime": {
     "end_time": "2024-06-18T18:07:32.409012Z",
     "start_time": "2024-06-18T18:07:32.404011Z"
    }
   },
   "cell_type": "code",
   "source": "tm.weight = np.abs(tm.weight)",
   "id": "565502083a308156",
   "outputs": [],
   "execution_count": 11
  },
  {
   "metadata": {
    "ExecuteTime": {
     "end_time": "2024-06-18T18:07:38.380403Z",
     "start_time": "2024-06-18T18:07:38.375404Z"
    }
   },
   "cell_type": "code",
   "source": "tm.weight",
   "id": "db359cf5579aa7c4",
   "outputs": [
    {
     "data": {
      "text/plain": [
       "array([1.60217663e-19, 1.60217663e-19, 1.60217663e-19, ...,\n",
       "       1.60217663e-19, 1.60217663e-19, 1.60217663e-19])"
      ]
     },
     "execution_count": 12,
     "metadata": {},
     "output_type": "execute_result"
    }
   ],
   "execution_count": 12
  },
  {
   "cell_type": "code",
   "execution_count": 7,
   "id": "af734a2e-3e54-419e-8a3d-3cc6e4a5221e",
   "metadata": {
    "tags": []
   },
   "outputs": [
    {
     "data": {
      "text/plain": [
       "{'alpha_x': 0.0011285677587667704,\n",
       " 'beta_x': 1.009029477013094,\n",
       " 'gamma_x': 0.991052587111099,\n",
       " 'emit_x': 1.023674280562815e-06,\n",
       " 'eta_x': 0.006086348134466045,\n",
       " 'etap_x': 0.002759048824527106,\n",
       " 'norm_emit_x': 8.013122379705987e-05,\n",
       " 'alpha_y': -0.0007199051804452672,\n",
       " 'beta_y': 1.0016550868070808,\n",
       " 'gamma_y': 0.9983481653860651,\n",
       " 'emit_y': 1.0087061588040834e-06,\n",
       " 'eta_y': 0.0021248256458361427,\n",
       " 'etap_y': 0.00017954051697158477,\n",
       " 'norm_emit_y': 7.895954845340356e-05}"
      ]
     },
     "execution_count": 7,
     "metadata": {},
     "output_type": "execute_result"
    }
   ],
   "source": "twiss_from_bmadx_particles(beam)"
  },
  {
   "cell_type": "code",
   "execution_count": 8,
   "id": "fc504d0b-7602-4b86-9669-3ca55250d3e3",
   "metadata": {
    "tags": []
   },
   "outputs": [
    {
     "data": {
      "text/plain": [
       "Text(0, 0.5, '$y$ (mm)')"
      ]
     },
     "execution_count": 8,
     "metadata": {},
     "output_type": "execute_result"
    },
    {
     "data": {
      "image/png": "[encoded data removed]",
      "text/plain": [
       "<Figure size 640x480 with 1 Axes>"
      ]
     },
     "metadata": {},
     "output_type": "display_data"
    }
   ],
   "source": [
    "# plot beam x,y histogram:\n",
    "fig, ax = plt.subplots()\n",
    "ax.hist2d(beam.x*1e3, beam.y*1e3, bins=(20,20))\n",
    "ax.set_aspect('equal')\n",
    "ax.set_xlabel(r'$x$ (mm)')\n",
    "ax.set_ylabel(r'$y$ (mm)')"
   ]
  },
  {
   "cell_type": "code",
   "execution_count": 41,
   "id": "b4c8ba98-9d34-42c2-96c2-08f2652461d9",
   "metadata": {
    "tags": []
   },
   "outputs": [
    {
     "data": {
      "text/plain": [
       "Drift(L=1.0)"
      ]
     },
     "execution_count": 41,
     "metadata": {},
     "output_type": "execute_result"
    }
   ],
   "source": [
    "# Create a drift element: \n",
    "from bmadx import Drift\n",
    "\n",
    "d = Drift(L=1.0)\n",
    "# Drift is a named tuple with: L (drift length): \n",
    "d"
   ]
  },
  {
   "cell_type": "code",
   "execution_count": 43,
   "id": "5c1b5dfd-8007-4d0c-9d19-f5508a823092",
   "metadata": {
    "tags": []
   },
   "outputs": [
    {
     "data": {
      "text/plain": [
       "Particle(x=array([ 0.00052969, -0.00045977,  0.00017756, ...,  0.00246988,\n",
       "        0.00129232,  0.0019936 ]), px=array([0.00079766, 0.00020332, 0.00018365, ..., 0.00032862, 0.00072337,\n",
       "       0.00056225]), y=array([ 2.74834425e-03,  9.66995343e-05, -1.44207758e-03, ...,\n",
       "        3.21848216e-04, -3.82698919e-03, -1.57101791e-03]), py=array([ 1.97455411e-03, -8.21937448e-05, -6.39492958e-04, ...,\n",
       "        7.80770056e-04, -1.25933440e-03, -1.36045951e-03]), z=array([-1.75412891e-04, -8.77311485e-04,  8.66488904e-04, ...,\n",
       "       -1.56254782e-05, -3.73855290e-04,  1.61780505e-03]), pz=array([-3.24909874e-04, -1.63111608e-04, -7.89551654e-04, ...,\n",
       "       -9.42366670e-04, -4.28653427e-05, -7.56092225e-04]), s=1.0, p0c=40000000.0, mc2=510998.94999999995)"
      ]
     },
     "execution_count": 43,
     "metadata": {},
     "output_type": "execute_result"
    }
   ],
   "source": [
    "# Track though drift\n",
    "from bmadx import track_element\n",
    "\n",
    "track_element(beam, d) # returns outgoing particle beam"
   ]
  },
  {
   "cell_type": "code",
   "execution_count": 18,
   "id": "23ee1eaf-cb27-4689-8d6f-c40cfca4326a",
   "metadata": {
    "tags": []
   },
   "outputs": [
    {
     "data": {
      "text/plain": [
       "Quadrupole(L=0.1, K1=10.0, NUM_STEPS=1, X_OFFSET=0.0, Y_OFFSET=0.0, TILT=0.0)"
      ]
     },
     "execution_count": 18,
     "metadata": {},
     "output_type": "execute_result"
    }
   ],
   "source": [
    "# Create a quarupole element:\n",
    "from bmadx import Quadrupole\n",
    "\n",
    "q_focus = Quadrupole(L=0.1, K1=10.0)\n",
    "# Quadrupole is a named tuple with: L, K1, X_OFFSET=0, Y_OFFSET=0, TILT=0\n",
    "q_focus"
   ]
  },
  {
   "cell_type": "code",
   "execution_count": 19,
   "id": "01127dd1-7b94-432b-8a31-8df10da8f457",
   "metadata": {
    "tags": []
   },
   "outputs": [
    {
     "data": {
      "text/plain": [
       "Particle(x=array([-0.00259119, -0.0016026 , -0.00079104, ...,  0.00089325,\n",
       "       -0.000334  , -0.0012257 ]), px=array([-0.00030865,  0.00117261, -0.00043574, ..., -0.00180316,\n",
       "        0.00120677,  0.00206227]), y=array([-7.82075360e-04,  1.58874634e-03, -8.95781415e-04, ...,\n",
       "        7.55083532e-05,  9.08699848e-04, -1.25628564e-03]), py=array([ 4.74655088e-07,  1.48967325e-03, -1.76839991e-03, ...,\n",
       "       -2.35547389e-04,  1.47205100e-03, -1.07336073e-06]), z=array([ 4.71127335e-04, -7.05366868e-04, -5.31875170e-05, ...,\n",
       "        9.63343976e-04, -1.47590429e-03,  1.83412354e-03]), pz=array([-0.00117989, -0.0009062 , -0.0012963 , ..., -0.00030126,\n",
       "        0.00043758, -0.00052161]), s=0.1, p0c=40000000.0, mc2=510998.94999999995)"
      ]
     },
     "execution_count": 19,
     "metadata": {},
     "output_type": "execute_result"
    }
   ],
   "source": [
    "# Track though quadrupole\n",
    "track_element(beam, q_focus)"
   ]
  },
  {
   "cell_type": "code",
   "execution_count": 22,
   "id": "8ad70528-482c-40da-a368-512642007902",
   "metadata": {
    "tags": []
   },
   "outputs": [],
   "source": [
    "# Create a Sbend element:\n",
    "from bmadx import SBend\n",
    "\n",
    "D1 = SBend(L = 1, P0C = p0c, G = 1.0, E1 = 0.1, E2 = 0.1)"
   ]
  },
  {
   "cell_type": "code",
   "execution_count": 23,
   "id": "da1863d3-a847-488b-abf9-b7534de7468d",
   "metadata": {
    "tags": []
   },
   "outputs": [
    {
     "data": {
      "text/plain": [
       "Particle(x=array([-0.00445067, -0.00182855, -0.00204222, ..., -0.00020121,\n",
       "        0.00061689, -0.00046022]), px=array([-1.06425291e-03,  9.43232565e-05, -1.38268131e-03, ...,\n",
       "       -1.53325861e-03,  1.21526393e-03,  9.98435634e-04]), y=array([ 5.43535545e-05,  1.31472858e-03, -1.63140958e-03, ...,\n",
       "       -2.31550404e-04,  1.34624905e-03,  8.84573373e-05]), py=array([ 0.00087267, -0.00033469, -0.00070683, ..., -0.00031133,\n",
       "        0.00040649,  0.00139973]), z=array([ 0.00411884,  0.00110453,  0.0013284 , ...,  0.0004839 ,\n",
       "       -0.00153468,  0.00278305]), pz=array([-0.00117989, -0.0009062 , -0.0012963 , ..., -0.00030126,\n",
       "        0.00043758, -0.00052161]), s=1.0, p0c=array(40000000.), mc2=510998.94999999995)"
      ]
     },
     "execution_count": 23,
     "metadata": {},
     "output_type": "execute_result"
    }
   ],
   "source": [
    "track_element(beam, D1)"
   ]
  },
  {
   "cell_type": "code",
   "execution_count": 25,
   "id": "e83e6d2c-905b-4dad-9b1e-a05547a7a548",
   "metadata": {
    "tags": []
   },
   "outputs": [],
   "source": [
    "# Create a Sextupole element:\n",
    "from bmadx import Sextupole\n",
    "S1 = Sextupole(L = 1, K2 = 1 )\n"
   ]
  },
  {
   "cell_type": "code",
   "execution_count": 26,
   "id": "9afaf374-7012-4577-bfab-9059d6a0b10a",
   "metadata": {
    "tags": []
   },
   "outputs": [
    {
     "data": {
      "text/plain": [
       "Particle(x=array([-0.00527366, -0.00210008, -0.00190086, ...,  0.00019104,\n",
       "        0.00038242, -0.00061321]), px=array([-0.00284412, -0.00046178, -0.00119197, ..., -0.00083581,\n",
       "        0.00081872,  0.00075453]), y=array([-2.59119216e-05,  1.46678484e-03, -1.70783513e-03, ...,\n",
       "       -2.20927239e-04,  1.42721241e-03, -4.33370563e-05]), py=array([ 7.97690076e-04, -5.30224058e-05, -9.46330275e-04, ...,\n",
       "       -3.24094332e-04,  6.21971319e-04,  1.27801803e-03]), z=array([ 4.71117524e-04, -7.05447128e-04, -5.32484021e-05, ...,\n",
       "        9.63396063e-04, -1.47573047e-03,  1.83418180e-03]), pz=array([-0.00117989, -0.0009062 , -0.0012963 , ..., -0.00030126,\n",
       "        0.00043758, -0.00052161]), s=1.0, p0c=40000000.0, mc2=510998.94999999995)"
      ]
     },
     "execution_count": 26,
     "metadata": {},
     "output_type": "execute_result"
    }
   ],
   "source": [
    "track_element(beam, S1)"
   ]
  },
  {
   "cell_type": "markdown",
   "id": "50f43d53-1359-458a-89d1-873aac4c5ba9",
   "metadata": {},
   "source": [
    "## Compare with R_gen6"
   ]
  },
  {
   "cell_type": "code",
   "execution_count": 23,
   "id": "8a9d1900-ecd8-41d3-a6c2-ec40f2a9eb7f",
   "metadata": {
    "tags": []
   },
   "outputs": [
    {
     "data": {
      "text/plain": [
       "Particle(x=0.001, px=0.001, y=0.001, py=0.001, z=0.001, pz=0.001, s=0.0, p0c=40000000.0, mc2=510998.94999999995)"
      ]
     },
     "execution_count": 23,
     "metadata": {},
     "output_type": "execute_result"
    }
   ],
   "source": [
    "from bmadx import Particle, M_ELECTRON\n",
    "\n",
    "coords = np.ones(6)*1e-3\n",
    "s = 0.0\n",
    "p0c = 4e7\n",
    "p = Particle(*coords, s, p0c, M_ELECTRON)\n",
    "# Particle is a named tuple with: cannonical coords (x, px, y, py, z, pz), s, p0c, mc2:\n",
    "p"
   ]
  },
  {
   "cell_type": "markdown",
   "id": "c1ed17c0-7b34-47ae-8399-73362d9199aa",
   "metadata": {},
   "source": [
    "### Drift"
   ]
  },
  {
   "cell_type": "code",
   "execution_count": 24,
   "id": "cb63b1ec-5fa3-4e05-80f5-6edf6526b6a4",
   "metadata": {
    "tags": []
   },
   "outputs": [
    {
     "data": {
      "text/plain": [
       "Drift(L=1.0)"
      ]
     },
     "execution_count": 24,
     "metadata": {},
     "output_type": "execute_result"
    }
   ],
   "source": [
    "# Create a drift element: \n",
    "from bmadx import Drift\n",
    "\n",
    "d = Drift(L=1.0)\n",
    "# Drift is a named tuple with: L (drift length): \n",
    "d"
   ]
  },
  {
   "cell_type": "code",
   "execution_count": 25,
   "id": "0029a3fb-c346-4f57-9096-397693fcfd5a",
   "metadata": {
    "tags": []
   },
   "outputs": [],
   "source": [
    "from r_gen6 import *\n",
    "r6 = r_gen6(L = 1.0, angle = 0)"
   ]
  },
  {
   "cell_type": "code",
   "execution_count": 26,
   "id": "285042e7-01c2-44ab-b94f-e53be306d59b",
   "metadata": {
    "tags": []
   },
   "outputs": [
    {
     "data": {
      "text/plain": [
       "Particle(x=0.0019990019960084817, px=0.001, y=0.0019990019960084817, py=0.001, z=0.000999164924440183, pz=0.001, s=1.0, p0c=40000000.0, mc2=510998.94999999995)"
      ]
     },
     "execution_count": 26,
     "metadata": {},
     "output_type": "execute_result"
    }
   ],
   "source": [
    "# Track with bmadx\n",
    "# Track though drift\n",
    "from bmadx import track_element\n",
    "\n",
    "track_element(p, d) # returns outgoing particle beam"
   ]
  },
  {
   "cell_type": "code",
   "execution_count": 27,
   "id": "5b848767-8763-4b9b-8877-eacb7df9db8b",
   "metadata": {
    "tags": []
   },
   "outputs": [
    {
     "data": {
      "text/plain": [
       "array([0.002, 0.001, 0.002, 0.001, 0.001, 0.001])"
      ]
     },
     "execution_count": 27,
     "metadata": {},
     "output_type": "execute_result"
    }
   ],
   "source": [
    "# Track with r_gen6\n",
    "np.matmul(r6, coords)"
   ]
  },
  {
   "cell_type": "markdown",
   "id": "b01ea48f-7ea6-46a7-af4a-2864d3484700",
   "metadata": {},
   "source": [
    "### Dipole"
   ]
  },
  {
   "cell_type": "code",
   "execution_count": 32,
   "id": "41b4238e-af17-4b60-80f0-17f794bf74e9",
   "metadata": {
    "tags": []
   },
   "outputs": [
    {
     "data": {
      "text/plain": [
       "Particle(x=0.001101157687964056, px=0.0010789320635333618, y=0.0010999526674531663, py=0.000944818304900785, z=0.0009473961722735597, pz=0.0009999999999998899, s=0.1, p0c=array(40000000.), mc2=510998.94999999995)"
      ]
     },
     "execution_count": 32,
     "metadata": {},
     "output_type": "execute_result"
    }
   ],
   "source": [
    "# Create a Sbend element:\n",
    "from bmadx import SBend\n",
    "\n",
    "D1 = SBend(L = 0.1, P0C = p0c, G = 0.5, E1 = 0.0, E2 = 0.1)\n",
    "track_element(p, D1)"
   ]
  },
  {
   "cell_type": "code",
   "execution_count": 33,
   "id": "374e3207-46b6-49ae-b1c4-41f581715bae",
   "metadata": {
    "tags": []
   },
   "outputs": [
    {
     "data": {
      "text/plain": [
       "array([0.00110121, 0.00107898, 0.0011    , 0.00094482, 0.00094748,\n",
       "       0.001     ])"
      ]
     },
     "execution_count": 33,
     "metadata": {},
     "output_type": "execute_result"
    }
   ],
   "source": [
    "r6 = r_gen6(L = 0.1 , angle = 0.1*0.5, E1 = 0.0, E2 = 0.1)\n",
    "np.matmul(r6, coords)"
   ]
  },
  {
   "cell_type": "markdown",
   "id": "919c1cb5-054b-4197-96db-8c38d1218749",
   "metadata": {},
   "source": [
    "### Quad"
   ]
  },
  {
   "cell_type": "code",
   "execution_count": 70,
   "id": "dd9db50b-869f-4815-a50a-75ef4ef06dd2",
   "metadata": {
    "tags": []
   },
   "outputs": [
    {
     "data": {
      "text/plain": [
       "Particle(x=0.0010487094525905673, px=-3.296855035329286e-05, y=0.00115193903813484, py=0.0020671006533949897, z=0.000999879829429573, pz=0.001, s=0.1, p0c=40000000.0, mc2=510998.94999999995)"
      ]
     },
     "execution_count": 70,
     "metadata": {},
     "output_type": "execute_result"
    }
   ],
   "source": [
    "# Create a quarupole element:\n",
    "from bmadx import Quadrupole\n",
    "\n",
    "q_focus = Quadrupole(L=0.1, K1=10.0)\n",
    "track_element(p,q_focus)"
   ]
  },
  {
   "cell_type": "code",
   "execution_count": 71,
   "id": "1c8335b9-c2a0-4c21-90c6-f03f1a26b4e4",
   "metadata": {
    "tags": []
   },
   "outputs": [
    {
     "data": {
      "text/plain": [
       "array([ 1.04875693e-03, -3.30011883e-05,  1.15209308e-03,  2.06716826e-03,\n",
       "        1.00000000e-03,  1.00000000e-03])"
      ]
     },
     "execution_count": 71,
     "metadata": {},
     "output_type": "execute_result"
    }
   ],
   "source": [
    "r6 = r_gen6(L = 0.1, angle = 0, k1 = 10.0)\n",
    "np.matmul(r6, coords)"
   ]
  },
  {
   "cell_type": "markdown",
   "id": "6a6529b4-8c0a-4c26-98c3-4e0ff928be7d",
   "metadata": {},
   "source": [
    "# Test BmadX Particle group conversion"
   ]
  },
  {
   "cell_type": "code",
   "execution_count": 25,
   "id": "9f646811-9031-4377-a990-07e2041995c6",
   "metadata": {
    "tags": []
   },
   "outputs": [
    {
     "data": {
      "text/plain": [
       "Particle(x=array([-0.00059626, -0.0022432 , -0.00045367, ..., -0.00075867,\n",
       "        0.00048642,  0.00055149]), px=array([-0.00078184,  0.00016927,  0.00030361, ...,  0.00215233,\n",
       "       -0.00049908,  0.00120649]), y=array([ 0.00012427,  0.0016162 , -0.00087935, ...,  0.00057561,\n",
       "       -0.00023516,  0.00097275]), py=array([-2.61102595e-04, -4.13257501e-05,  2.56259709e-04, ...,\n",
       "       -5.21849224e-04, -1.04041191e-04, -7.84721022e-04]), z=array([-0.00110426,  0.00280764,  0.00137861, ...,  0.00133754,\n",
       "        0.00173114, -0.00072544]), pz=array([-1.12463512e-03,  1.43552140e-04, -1.21562319e-03, ...,\n",
       "        9.71773316e-04, -3.28865843e-05, -1.42678143e-03]), s=0, p0c=40000000.0, mc2=510998.94999999995)"
      ]
     },
     "execution_count": 25,
     "metadata": {},
     "output_type": "execute_result"
    }
   ],
   "source": [
    "from bmadx import Particle, M_ELECTRON\n",
    "# Create particle beam\n",
    "n_particles = int(1e5) # number of particles in beam\n",
    "coords = np.random.multivariate_normal(mean = np.zeros(6),\n",
    "                                       cov = 1e-6*np.identity(6),\n",
    "                                       size = n_particles\n",
    "                                      )\n",
    "beam = Particle(*coords.T, 0, 4e7, M_ELECTRON)\n",
    "beam"
   ]
  },
  {
   "cell_type": "code",
   "execution_count": 27,
   "id": "d964dd7f-b0ae-4948-9ca5-9e8d06cb4d11",
   "metadata": {
    "tags": []
   },
   "outputs": [
    {
     "ename": "AttributeError",
     "evalue": "can't set attribute",
     "output_type": "error",
     "traceback": [
      "\u001B[1;31m---------------------------------------------------------------------------\u001B[0m",
      "\u001B[1;31mAttributeError\u001B[0m                            Traceback (most recent call last)",
      "Cell \u001B[1;32mIn[27], line 1\u001B[0m\n\u001B[1;32m----> 1\u001B[0m \u001B[38;5;28;43msetattr\u001B[39;49m\u001B[43m(\u001B[49m\u001B[43mbeam\u001B[49m\u001B[43m,\u001B[49m\u001B[43m \u001B[49m\u001B[38;5;124;43m'\u001B[39;49m\u001B[38;5;124;43mx\u001B[39;49m\u001B[38;5;124;43m'\u001B[39;49m\u001B[43m,\u001B[49m\u001B[43m \u001B[49m\u001B[43mnp\u001B[49m\u001B[38;5;241;43m.\u001B[39;49m\u001B[43mones\u001B[49m\u001B[43m(\u001B[49m\u001B[38;5;28;43mlen\u001B[39;49m\u001B[43m(\u001B[49m\u001B[43mbeam\u001B[49m\u001B[38;5;241;43m.\u001B[39;49m\u001B[43mx\u001B[49m\u001B[43m)\u001B[49m\u001B[43m)\u001B[49m\u001B[43m)\u001B[49m\n",
      "\u001B[1;31mAttributeError\u001B[0m: can't set attribute"
     ]
    }
   ],
   "source": [
    "setattr(beam, 'x', np.ones(len(beam.x)))"
   ]
  },
  {
   "cell_type": "code",
   "execution_count": 8,
   "id": "08a022d9-4e82-4278-9857-6315db117fbb",
   "metadata": {
    "tags": []
   },
   "outputs": [],
   "source": [
    "from bmadx.pmd_utils import openpmd_to_bmadx_particles, bmadx_particles_to_openpmd"
   ]
  },
  {
   "cell_type": "code",
   "execution_count": 9,
   "id": "09c05e16-0e8d-4ac3-94fc-6837ade4b4ec",
   "metadata": {
    "tags": []
   },
   "outputs": [],
   "source": [
    "ptest = bmadx_particles_to_openpmd(beam)"
   ]
  },
  {
   "cell_type": "code",
   "execution_count": 17,
   "id": "831348e6-39bc-41af-a113-a895bfcfa1c7",
   "metadata": {
    "tags": []
   },
   "outputs": [
    {
     "data": {
      "text/plain": [
       "array([-0.0002299 ,  0.00050372,  0.0008349 , ...,  0.00047659,\n",
       "       -0.00032401, -0.00100981])"
      ]
     },
     "execution_count": 17,
     "metadata": {},
     "output_type": "execute_result"
    }
   ],
   "source": [
    "ptest.xp"
   ]
  },
  {
   "cell_type": "code",
   "execution_count": 12,
   "id": "254c87dc-e5ec-48bd-9b78-a0092bc8e5bb",
   "metadata": {
    "tags": []
   },
   "outputs": [
    {
     "ename": "NameError",
     "evalue": "name 'beam' is not defined",
     "output_type": "error",
     "traceback": [
      "\u001B[1;31m---------------------------------------------------------------------------\u001B[0m",
      "\u001B[1;31mNameError\u001B[0m                                 Traceback (most recent call last)",
      "Cell \u001B[1;32mIn[12], line 1\u001B[0m\n\u001B[1;32m----> 1\u001B[0m \u001B[43mbeam\u001B[49m\u001B[38;5;241m.\u001B[39mx\n",
      "\u001B[1;31mNameError\u001B[0m: name 'beam' is not defined"
     ]
    }
   ],
   "source": [
    "beam.x"
   ]
  },
  {
   "cell_type": "code",
   "execution_count": 11,
   "id": "6ec9dbb7-3779-4f1f-9b78-0712ad69342c",
   "metadata": {
    "tags": []
   },
   "outputs": [
    {
     "data": {
      "text/plain": [
       "{'alpha_x': -0.0018154468377618474,\n",
       " 'beta_x': 1.003518835680214,\n",
       " 'gamma_x': 0.9964967873965114,\n",
       " 'emit_x': 1.0063929959311547e-06,\n",
       " 'eta_x': 0.0034107951841475183,\n",
       " 'etap_x': 0.0005750798528333609,\n",
       " 'norm_emit_x': 7.877834315381641e-05,\n",
       " 'alpha_y': -0.0011741907613073703,\n",
       " 'beta_y': 0.9964030232049694,\n",
       " 'gamma_y': 1.0036113454447382,\n",
       " 'emit_y': 9.98890777660699e-07,\n",
       " 'eta_y': 0.0018205579308965853,\n",
       " 'etap_y': 0.003115699594614204,\n",
       " 'norm_emit_y': 7.819108516641562e-05}"
      ]
     },
     "execution_count": 11,
     "metadata": {},
     "output_type": "execute_result"
    }
   ],
   "source": [
    "ptest.twiss('xy')"
   ]
  },
  {
   "cell_type": "code",
   "execution_count": 22,
   "id": "f4576ff6-6409-4546-b304-28ebf870ff9c",
   "metadata": {
    "tags": []
   },
   "outputs": [
    {
     "data": {
      "text/plain": [
       "40003195.11152757"
      ]
     },
     "execution_count": 22,
     "metadata": {},
     "output_type": "execute_result"
    }
   ],
   "source": [
    "ptest['mean_energy']"
   ]
  },
  {
   "cell_type": "code",
   "execution_count": 86,
   "id": "765ee933-9cfb-4866-877a-a952839825a7",
   "metadata": {
    "tags": []
   },
   "outputs": [
    {
     "data": {
      "text/plain": [
       "1.602176634e-19"
      ]
     },
     "execution_count": 86,
     "metadata": {},
     "output_type": "execute_result"
    }
   ],
   "source": [
    "import scipy\n",
    "scipy.constants.e"
   ]
  },
  {
   "cell_type": "code",
   "execution_count": 14,
   "id": "f498c0ec-88ab-4c59-9b9e-5f90ecd0451e",
   "metadata": {
    "tags": []
   },
   "outputs": [
    {
     "data": {
      "text/plain": [
       "array([78.36695172, 78.28237568, 78.20619374, ..., 78.34143638,\n",
       "       78.28744741, 78.29685789])"
      ]
     },
     "execution_count": 14,
     "metadata": {},
     "output_type": "execute_result"
    }
   ],
   "source": [
    "ptest.gamma"
   ]
  },
  {
   "cell_type": "code",
   "execution_count": 3,
   "id": "527abf8d-be07-46ea-a407-2d731c613469",
   "metadata": {
    "tags": []
   },
   "outputs": [],
   "source": [
    "dic = {'a': 1, 'b': {'b1':2, 'b2': 3}}\n",
    "dic2  = {'a': 1, 'b': 2}"
   ]
  },
  {
   "cell_type": "code",
   "execution_count": 2,
   "id": "7fef2d3d-c261-49c9-8cfb-3470f3d488f4",
   "metadata": {
    "tags": []
   },
   "outputs": [],
   "source": [
    "import h5py\n",
    "with h5py.File('test2.h5', 'a') as hf:\n",
    "    for key, value in dic2.items():\n",
    "        hf.create_dataset(name = key, data = value)"
   ]
  },
  {
   "cell_type": "code",
   "execution_count": 3,
   "id": "1452b1f4-3bc6-47eb-bf8c-c35787c5e80a",
   "metadata": {
    "tags": []
   },
   "outputs": [
    {
     "name": "stdout",
     "output_type": "stream",
     "text": [
      "<KeysViewHDF5 ['a', 'b']>\n"
     ]
    }
   ],
   "source": [
    "with h5py.File('test2.h5', 'r') as hf:\n",
    "    print(hf.keys())"
   ]
  },
  {
   "cell_type": "code",
   "execution_count": 5,
   "id": "596a06f4-7adc-4174-9883-4ebed78b6853",
   "metadata": {
    "tags": []
   },
   "outputs": [],
   "source": [
    "from tools import dict2hdf5"
   ]
  },
  {
   "cell_type": "code",
   "execution_count": 7,
   "id": "e4d787a8-a784-4ac5-bc3f-b52f009846a6",
   "metadata": {
    "tags": []
   },
   "outputs": [],
   "source": [
    "import h5py\n",
    "with h5py.File('test4.h5', 'a') as hf:\n",
    "    dict2hdf5(hf, dic)"
   ]
  },
  {
   "cell_type": "code",
   "execution_count": 11,
   "id": "10a83696-e6f8-428f-9910-796320c62da5",
   "metadata": {
    "tags": []
   },
   "outputs": [
    {
     "name": "stdout",
     "output_type": "stream",
     "text": [
      "2\n"
     ]
    }
   ],
   "source": [
    "with h5py.File('test4.h5', 'r') as hf:\n",
    "    print(np.array(hf['b']['b1']))"
   ]
  },
  {
   "cell_type": "code",
   "execution_count": 16,
   "id": "3773df27-3cd8-44c6-a56f-25c270ffa6dd",
   "metadata": {
    "tags": []
   },
   "outputs": [],
   "source": [
    "from distgen import Generator\n",
    "gen = Generator(r'C:\\Users\\yingb\\Desktop\\pyDFCSR\\pyDFCSR_2D\\example\\input\\dipole_init_beam.yaml')\n",
    "gen.run()\n",
    "pg = gen.particles"
   ]
  },
  {
   "cell_type": "code",
   "execution_count": 19,
   "id": "0a8f75ca-b221-44bf-9928-8522c63e9923",
   "metadata": {
    "tags": []
   },
   "outputs": [
    {
     "data": {
      "text/plain": [
       "array([0., 0., 0., ..., 0., 0., 0.])"
      ]
     },
     "execution_count": 19,
     "metadata": {},
     "output_type": "execute_result"
    }
   ],
   "source": [
    "pg.t"
   ]
  },
  {
   "cell_type": "code",
   "execution_count": 20,
   "id": "8eb8a999-2f21-4aa3-9600-d138292bd29d",
   "metadata": {
    "tags": []
   },
   "outputs": [],
   "source": [
    "pg.write('test3.h5')"
   ]
  },
  {
   "cell_type": "code",
   "execution_count": 24,
   "id": "33b53fa5-bad6-460f-b05b-bd5531720ca9",
   "metadata": {
    "tags": []
   },
   "outputs": [],
   "source": [
    "with h5py.File('test3.h5', 'a') as hf:\n",
    "    hf.attrs['test'] = 3"
   ]
  },
  {
   "cell_type": "code",
   "execution_count": null,
   "id": "3105723f-804b-42aa-951e-ef3172c14cf6",
   "metadata": {},
   "outputs": [],
   "source": [
    "with h5py.File('test3.h5', 'r') as hf:\n",
    "    print()"
   ]
  }
 ],
 "metadata": {
  "kernelspec": {
   "display_name": "Python 3 (ipykernel)",
   "language": "python",
   "name": "python3"
  },
  "language_info": {
   "codemirror_mode": {
    "name": "ipython",
    "version": 3
   },
   "file_extension": ".py",
   "mimetype": "text/x-python",
   "name": "python",
   "nbconvert_exporter": "python",
   "pygments_lexer": "ipython3",
   "version": "3.9.19"
  }
 },
 "nbformat": 4,
 "nbformat_minor": 5
}
