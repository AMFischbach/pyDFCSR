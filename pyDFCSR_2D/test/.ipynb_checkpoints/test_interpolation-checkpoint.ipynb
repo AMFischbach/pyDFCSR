{
 "cells": [
  {
   "cell_type": "code",
   "metadata": {
    "ExecuteTime": {
     "end_time": "2024-04-10T06:18:34.994783Z",
     "start_time": "2024-04-10T06:18:34.426616Z"
    }
   },
   "source": [
    "\n",
    "from pyDFCSR_2D.interp3D import  TrilinearInterpolator, interpolate3D,interpolate_3d_vectorized"
   ],
   "outputs": [],
   "execution_count": 1
  },
  {
   "cell_type": "code",
   "metadata": {
    "ExecuteTime": {
     "end_time": "2024-04-10T06:18:35.360706Z",
     "start_time": "2024-04-10T06:18:34.998173Z"
    }
   },
   "source": [
    "import numpy as np\n",
    "from scipy.interpolate import RegularGridInterpolator"
   ],
   "outputs": [],
   "execution_count": 2
  },
  {
   "cell_type": "code",
   "metadata": {
    "ExecuteTime": {
     "end_time": "2024-04-10T06:19:16.642716Z",
     "start_time": "2024-04-10T06:19:16.629761Z"
    }
   },
   "source": [
    "def f(x, y, z):\n",
    "    return 2 * x**3 + 3 * y**2 - z"
   ],
   "outputs": [],
   "execution_count": 3
  },
  {
   "cell_type": "code",
   "metadata": {
    "ExecuteTime": {
     "end_time": "2024-04-10T06:19:17.516338Z",
     "start_time": "2024-04-10T06:19:17.321297Z"
    }
   },
   "source": [
    "# input points\n",
    "x = np.linspace(1, 4, 200)\n",
    "y = np.linspace(4, 7, 200)\n",
    "z = np.linspace(7, 9, 100)\n",
    "xg, yg ,zg = np.meshgrid(x, y, z, indexing='ij')\n",
    "data = f(xg, yg, zg)"
   ],
   "outputs": [],
   "execution_count": 4
  },
  {
   "metadata": {
    "ExecuteTime": {
     "end_time": "2024-04-10T06:19:18.496950Z",
     "start_time": "2024-04-10T06:19:18.475426Z"
    }
   },
   "cell_type": "code",
   "source": "data.shape",
   "outputs": [
    {
     "data": {
      "text/plain": [
       "(200, 200, 100)"
      ]
     },
     "execution_count": 5,
     "metadata": {},
     "output_type": "execute_result"
    }
   ],
   "execution_count": 5
  },
  {
   "metadata": {
    "ExecuteTime": {
     "end_time": "2024-04-10T06:19:21.316104Z",
     "start_time": "2024-04-10T06:19:21.305142Z"
    }
   },
   "cell_type": "code",
   "source": [
    "m = 40000\n",
    "xval = np.linspace(1, 4,m)\n",
    "yval = np.linspace(4, 7, m)\n",
    "zval = np.linspace(7, 9, m)"
   ],
   "outputs": [],
   "execution_count": 6
  },
  {
   "metadata": {
    "ExecuteTime": {
     "end_time": "2024-04-10T06:14:29.319471Z",
     "start_time": "2024-04-10T06:14:09.816893Z"
    }
   },
   "cell_type": "code",
   "source": [
    "%%timeit\n",
    "n = 1200\n",
    "for _ in range(n):\n",
    "    interpolate3D(xval, yval, zval, data, min(x), min(y), min(z), np.mean(np.diff(x)), np.mean(np.diff(y)), np.mean(np.diff(z)))"
   ],
   "outputs": [
    {
     "name": "stdout",
     "output_type": "stream",
     "text": [
      "2.32 s ± 661 ms per loop (mean ± std. dev. of 7 runs, 1 loop each)\n"
     ]
    }
   ],
   "execution_count": 10
  },
  {
   "metadata": {
    "ExecuteTime": {
     "end_time": "2024-04-10T06:19:26.064993Z",
     "start_time": "2024-04-10T06:19:24.904049Z"
    }
   },
   "cell_type": "code",
   "source": [
    "\n",
    "\n",
    "%%timeit\n",
    "n = 1200\n",
    "for _ in range(n):\n",
    "    interpolate_3d_vectorized(data, xval, yval, zval, min(x), min(y), min(z), np.mean(np.diff(x)), np.mean(np.diff(y)), np.mean(np.diff(z)))"
   ],
   "outputs": [
    {
     "ename": "TypingError",
     "evalue": "Failed in nopython mode pipeline (step: nopython frontend)\n\u001B[1m\u001B[1m\u001B[1mInvalid use of BoundFunction(array.astype for array(float64, 1d, C)) with parameters (Function(<class 'int'>))\n\u001B[0m\n\u001B[0m\u001B[1mDuring: resolving callee type: BoundFunction(array.astype for array(float64, 1d, C))\u001B[0m\n\u001B[0m\u001B[1mDuring: typing of call at G:\\My Drive\\Stanford\\research\\FEL\\CSR\\pyDFCSR\\pyDFCSR_2D\\interp3D.py (96)\n\u001B[0m\n\u001B[1m\nFile \"..\\interp3D.py\", line 96:\u001B[0m\n\u001B[1mdef interpolate_3d_vectorized(data, x, y, z, min_x, min_y, min_z,  delta_x, delta_y, delta_z):\n    <source elided>\n    # Compute integer coordinates and the fractional part for interpolation\n\u001B[1m    x0 = np.floor(x).astype(int)\n\u001B[0m    \u001B[1m^\u001B[0m\u001B[0m\n",
     "output_type": "error",
     "traceback": [
      "\u001B[1;31m---------------------------------------------------------------------------\u001B[0m",
      "\u001B[1;31mTypingError\u001B[0m                               Traceback (most recent call last)",
      "Cell \u001B[1;32mIn[7], line 1\u001B[0m\n\u001B[1;32m----> 1\u001B[0m \u001B[43mget_ipython\u001B[49m\u001B[43m(\u001B[49m\u001B[43m)\u001B[49m\u001B[38;5;241;43m.\u001B[39;49m\u001B[43mrun_cell_magic\u001B[49m\u001B[43m(\u001B[49m\u001B[38;5;124;43m'\u001B[39;49m\u001B[38;5;124;43mtimeit\u001B[39;49m\u001B[38;5;124;43m'\u001B[39;49m\u001B[43m,\u001B[49m\u001B[43m \u001B[49m\u001B[38;5;124;43m'\u001B[39;49m\u001B[38;5;124;43m'\u001B[39;49m\u001B[43m,\u001B[49m\u001B[43m \u001B[49m\u001B[38;5;124;43m'\u001B[39;49m\u001B[38;5;124;43mn = 1200\u001B[39;49m\u001B[38;5;130;43;01m\\n\u001B[39;49;00m\u001B[38;5;124;43mfor _ in range(n):\u001B[39;49m\u001B[38;5;130;43;01m\\n\u001B[39;49;00m\u001B[38;5;124;43m    interpolate_3d_vectorized(data, xval, yval, zval, min(x), min(y), min(z), np.mean(np.diff(x)), np.mean(np.diff(y)), np.mean(np.diff(z)))\u001B[39;49m\u001B[38;5;130;43;01m\\n\u001B[39;49;00m\u001B[38;5;124;43m'\u001B[39;49m\u001B[43m)\u001B[49m\n",
      "File \u001B[1;32m~\\AppData\\Local\\miniconda3\\envs\\pyDFCSR\\lib\\site-packages\\IPython\\core\\interactiveshell.py:2475\u001B[0m, in \u001B[0;36mInteractiveShell.run_cell_magic\u001B[1;34m(self, magic_name, line, cell)\u001B[0m\n\u001B[0;32m   2473\u001B[0m \u001B[38;5;28;01mwith\u001B[39;00m \u001B[38;5;28mself\u001B[39m\u001B[38;5;241m.\u001B[39mbuiltin_trap:\n\u001B[0;32m   2474\u001B[0m     args \u001B[38;5;241m=\u001B[39m (magic_arg_s, cell)\n\u001B[1;32m-> 2475\u001B[0m     result \u001B[38;5;241m=\u001B[39m fn(\u001B[38;5;241m*\u001B[39margs, \u001B[38;5;241m*\u001B[39m\u001B[38;5;241m*\u001B[39mkwargs)\n\u001B[0;32m   2477\u001B[0m \u001B[38;5;66;03m# The code below prevents the output from being displayed\u001B[39;00m\n\u001B[0;32m   2478\u001B[0m \u001B[38;5;66;03m# when using magics with decodator @output_can_be_silenced\u001B[39;00m\n\u001B[0;32m   2479\u001B[0m \u001B[38;5;66;03m# when the last Python token in the expression is a ';'.\u001B[39;00m\n\u001B[0;32m   2480\u001B[0m \u001B[38;5;28;01mif\u001B[39;00m \u001B[38;5;28mgetattr\u001B[39m(fn, magic\u001B[38;5;241m.\u001B[39mMAGIC_OUTPUT_CAN_BE_SILENCED, \u001B[38;5;28;01mFalse\u001B[39;00m):\n",
      "File \u001B[1;32m~\\AppData\\Local\\miniconda3\\envs\\pyDFCSR\\lib\\site-packages\\IPython\\core\\magics\\execution.py:1170\u001B[0m, in \u001B[0;36mExecutionMagics.timeit\u001B[1;34m(self, line, cell, local_ns)\u001B[0m\n\u001B[0;32m   1168\u001B[0m \u001B[38;5;28;01mfor\u001B[39;00m index \u001B[38;5;129;01min\u001B[39;00m \u001B[38;5;28mrange\u001B[39m(\u001B[38;5;241m0\u001B[39m, \u001B[38;5;241m10\u001B[39m):\n\u001B[0;32m   1169\u001B[0m     number \u001B[38;5;241m=\u001B[39m \u001B[38;5;241m10\u001B[39m \u001B[38;5;241m*\u001B[39m\u001B[38;5;241m*\u001B[39m index\n\u001B[1;32m-> 1170\u001B[0m     time_number \u001B[38;5;241m=\u001B[39m \u001B[43mtimer\u001B[49m\u001B[38;5;241;43m.\u001B[39;49m\u001B[43mtimeit\u001B[49m\u001B[43m(\u001B[49m\u001B[43mnumber\u001B[49m\u001B[43m)\u001B[49m\n\u001B[0;32m   1171\u001B[0m     \u001B[38;5;28;01mif\u001B[39;00m time_number \u001B[38;5;241m>\u001B[39m\u001B[38;5;241m=\u001B[39m \u001B[38;5;241m0.2\u001B[39m:\n\u001B[0;32m   1172\u001B[0m         \u001B[38;5;28;01mbreak\u001B[39;00m\n",
      "File \u001B[1;32m~\\AppData\\Local\\miniconda3\\envs\\pyDFCSR\\lib\\site-packages\\IPython\\core\\magics\\execution.py:158\u001B[0m, in \u001B[0;36mTimer.timeit\u001B[1;34m(self, number)\u001B[0m\n\u001B[0;32m    156\u001B[0m gc\u001B[38;5;241m.\u001B[39mdisable()\n\u001B[0;32m    157\u001B[0m \u001B[38;5;28;01mtry\u001B[39;00m:\n\u001B[1;32m--> 158\u001B[0m     timing \u001B[38;5;241m=\u001B[39m \u001B[38;5;28;43mself\u001B[39;49m\u001B[38;5;241;43m.\u001B[39;49m\u001B[43minner\u001B[49m\u001B[43m(\u001B[49m\u001B[43mit\u001B[49m\u001B[43m,\u001B[49m\u001B[43m \u001B[49m\u001B[38;5;28;43mself\u001B[39;49m\u001B[38;5;241;43m.\u001B[39;49m\u001B[43mtimer\u001B[49m\u001B[43m)\u001B[49m\n\u001B[0;32m    159\u001B[0m \u001B[38;5;28;01mfinally\u001B[39;00m:\n\u001B[0;32m    160\u001B[0m     \u001B[38;5;28;01mif\u001B[39;00m gcold:\n",
      "File \u001B[1;32m<magic-timeit>:3\u001B[0m, in \u001B[0;36minner\u001B[1;34m(_it, _timer)\u001B[0m\n",
      "File \u001B[1;32m~\\AppData\\Local\\miniconda3\\envs\\pyDFCSR\\lib\\site-packages\\numba\\core\\dispatcher.py:468\u001B[0m, in \u001B[0;36m_DispatcherBase._compile_for_args\u001B[1;34m(self, *args, **kws)\u001B[0m\n\u001B[0;32m    464\u001B[0m         msg \u001B[38;5;241m=\u001B[39m (\u001B[38;5;124mf\u001B[39m\u001B[38;5;124m\"\u001B[39m\u001B[38;5;132;01m{\u001B[39;00m\u001B[38;5;28mstr\u001B[39m(e)\u001B[38;5;241m.\u001B[39mrstrip()\u001B[38;5;132;01m}\u001B[39;00m\u001B[38;5;124m \u001B[39m\u001B[38;5;130;01m\\n\u001B[39;00m\u001B[38;5;130;01m\\n\u001B[39;00m\u001B[38;5;124mThis error may have been caused \u001B[39m\u001B[38;5;124m\"\u001B[39m\n\u001B[0;32m    465\u001B[0m                \u001B[38;5;124mf\u001B[39m\u001B[38;5;124m\"\u001B[39m\u001B[38;5;124mby the following argument(s):\u001B[39m\u001B[38;5;130;01m\\n\u001B[39;00m\u001B[38;5;132;01m{\u001B[39;00margs_str\u001B[38;5;132;01m}\u001B[39;00m\u001B[38;5;130;01m\\n\u001B[39;00m\u001B[38;5;124m\"\u001B[39m)\n\u001B[0;32m    466\u001B[0m         e\u001B[38;5;241m.\u001B[39mpatch_message(msg)\n\u001B[1;32m--> 468\u001B[0m     \u001B[43merror_rewrite\u001B[49m\u001B[43m(\u001B[49m\u001B[43me\u001B[49m\u001B[43m,\u001B[49m\u001B[43m \u001B[49m\u001B[38;5;124;43m'\u001B[39;49m\u001B[38;5;124;43mtyping\u001B[39;49m\u001B[38;5;124;43m'\u001B[39;49m\u001B[43m)\u001B[49m\n\u001B[0;32m    469\u001B[0m \u001B[38;5;28;01mexcept\u001B[39;00m errors\u001B[38;5;241m.\u001B[39mUnsupportedError \u001B[38;5;28;01mas\u001B[39;00m e:\n\u001B[0;32m    470\u001B[0m     \u001B[38;5;66;03m# Something unsupported is present in the user code, add help info\u001B[39;00m\n\u001B[0;32m    471\u001B[0m     error_rewrite(e, \u001B[38;5;124m'\u001B[39m\u001B[38;5;124munsupported_error\u001B[39m\u001B[38;5;124m'\u001B[39m)\n",
      "File \u001B[1;32m~\\AppData\\Local\\miniconda3\\envs\\pyDFCSR\\lib\\site-packages\\numba\\core\\dispatcher.py:409\u001B[0m, in \u001B[0;36m_DispatcherBase._compile_for_args.<locals>.error_rewrite\u001B[1;34m(e, issue_type)\u001B[0m\n\u001B[0;32m    407\u001B[0m     \u001B[38;5;28;01mraise\u001B[39;00m e\n\u001B[0;32m    408\u001B[0m \u001B[38;5;28;01melse\u001B[39;00m:\n\u001B[1;32m--> 409\u001B[0m     \u001B[38;5;28;01mraise\u001B[39;00m e\u001B[38;5;241m.\u001B[39mwith_traceback(\u001B[38;5;28;01mNone\u001B[39;00m)\n",
      "\u001B[1;31mTypingError\u001B[0m: Failed in nopython mode pipeline (step: nopython frontend)\n\u001B[1m\u001B[1m\u001B[1mInvalid use of BoundFunction(array.astype for array(float64, 1d, C)) with parameters (Function(<class 'int'>))\n\u001B[0m\n\u001B[0m\u001B[1mDuring: resolving callee type: BoundFunction(array.astype for array(float64, 1d, C))\u001B[0m\n\u001B[0m\u001B[1mDuring: typing of call at G:\\My Drive\\Stanford\\research\\FEL\\CSR\\pyDFCSR\\pyDFCSR_2D\\interp3D.py (96)\n\u001B[0m\n\u001B[1m\nFile \"..\\interp3D.py\", line 96:\u001B[0m\n\u001B[1mdef interpolate_3d_vectorized(data, x, y, z, min_x, min_y, min_z,  delta_x, delta_y, delta_z):\n    <source elided>\n    # Compute integer coordinates and the fractional part for interpolation\n\u001B[1m    x0 = np.floor(x).astype(int)\n\u001B[0m    \u001B[1m^\u001B[0m\u001B[0m\n"
     ]
    }
   ],
   "execution_count": 7
  },
  {
   "metadata": {
    "ExecuteTime": {
     "end_time": "2024-04-10T05:19:19.132263Z",
     "start_time": "2024-04-10T05:19:19.120167Z"
    }
   },
   "cell_type": "code",
   "source": [
    "interp = RegularGridInterpolator((x, y, z), data)\n",
    "\n"
   ],
   "outputs": [],
   "execution_count": 25
  },
  {
   "metadata": {
    "ExecuteTime": {
     "end_time": "2024-04-10T05:21:28.496391Z",
     "start_time": "2024-04-10T05:19:46.062328Z"
    }
   },
   "cell_type": "code",
   "source": [
    "%%timeit\n",
    "for _ in range(n):\n",
    "    result1 = interp((xval, yval, zval))"
   ],
   "outputs": [
    {
     "name": "stdout",
     "output_type": "stream",
     "text": [
      "13.5 s ± 5.49 s per loop (mean ± std. dev. of 7 runs, 1 loop each)\n"
     ]
    }
   ],
   "execution_count": 27
  },
  {
   "metadata": {
    "ExecuteTime": {
     "end_time": "2024-04-10T05:15:24.616827Z",
     "start_time": "2024-04-10T05:15:22.475642Z"
    }
   },
   "cell_type": "code",
   "source": "t2 = TrilinearInterpolator(data, x, y, z)",
   "outputs": [],
   "execution_count": 16
  },
  {
   "metadata": {
    "ExecuteTime": {
     "end_time": "2024-04-10T05:16:32.066961Z",
     "start_time": "2024-04-10T05:16:18.304113Z"
    }
   },
   "cell_type": "code",
   "source": [
    "%%timeit\n",
    "n = 1200\n",
    "for _ in range(n):\n",
    "    result2 = t2.interp(xval, yval, zval)"
   ],
   "outputs": [
    {
     "name": "stdout",
     "output_type": "stream",
     "text": [
      "1.46 s ± 290 ms per loop (mean ± std. dev. of 7 runs, 1 loop each)\n"
     ]
    }
   ],
   "execution_count": 19
  },
  {
   "cell_type": "code",
   "metadata": {
    "ExecuteTime": {
     "end_time": "2024-04-10T05:12:24.007134Z",
     "start_time": "2024-04-10T05:12:23.991054Z"
    }
   },
   "source": "interp = RegularGridInterpolator((x, y, z), data)",
   "outputs": [],
   "execution_count": 5
  },
  {
   "cell_type": "code",
   "metadata": {
    "ExecuteTime": {
     "end_time": "2024-04-10T05:12:28.473933Z",
     "start_time": "2024-04-10T05:12:28.457064Z"
    }
   },
   "source": [
    "pts = np.array([2.1, 6.2, 8.3])\n",
    "interp(pts)"
   ],
   "outputs": [
    {
     "data": {
      "text/plain": [
       "array([125.80469388])"
      ]
     },
     "execution_count": 6,
     "metadata": {},
     "output_type": "execute_result"
    }
   ],
   "execution_count": 6
  },
  {
   "cell_type": "code",
   "metadata": {
    "ExecuteTime": {
     "end_time": "2024-04-10T05:12:29.735346Z",
     "start_time": "2024-04-10T05:12:29.714030Z"
    }
   },
   "source": [
    "t = TrilinearInterpolator_vec(data, x, y, z)"
   ],
   "outputs": [],
   "execution_count": 7
  },
  {
   "cell_type": "code",
   "metadata": {
    "ExecuteTime": {
     "end_time": "2024-04-10T05:12:31.622655Z",
     "start_time": "2024-04-10T05:12:30.735498Z"
    }
   },
   "source": [
    "test = t.interp(np.array([2.1]), np.array([6.2]), np.array([8.3]))"
   ],
   "outputs": [
    {
     "ename": "NameError",
     "evalue": "name 'interpolate3D_vec' is not defined",
     "output_type": "error",
     "traceback": [
      "\u001B[1;31m---------------------------------------------------------------------------\u001B[0m",
      "\u001B[1;31mNameError\u001B[0m                                 Traceback (most recent call last)",
      "Cell \u001B[1;32mIn[8], line 1\u001B[0m\n\u001B[1;32m----> 1\u001B[0m test \u001B[38;5;241m=\u001B[39m \u001B[43mt\u001B[49m\u001B[38;5;241;43m.\u001B[39;49m\u001B[43minterp\u001B[49m\u001B[43m(\u001B[49m\u001B[43mnp\u001B[49m\u001B[38;5;241;43m.\u001B[39;49m\u001B[43marray\u001B[49m\u001B[43m(\u001B[49m\u001B[43m[\u001B[49m\u001B[38;5;241;43m2.1\u001B[39;49m\u001B[43m]\u001B[49m\u001B[43m)\u001B[49m\u001B[43m,\u001B[49m\u001B[43m \u001B[49m\u001B[43mnp\u001B[49m\u001B[38;5;241;43m.\u001B[39;49m\u001B[43marray\u001B[49m\u001B[43m(\u001B[49m\u001B[43m[\u001B[49m\u001B[38;5;241;43m6.2\u001B[39;49m\u001B[43m]\u001B[49m\u001B[43m)\u001B[49m\u001B[43m,\u001B[49m\u001B[43m \u001B[49m\u001B[43mnp\u001B[49m\u001B[38;5;241;43m.\u001B[39;49m\u001B[43marray\u001B[49m\u001B[43m(\u001B[49m\u001B[43m[\u001B[49m\u001B[38;5;241;43m8.3\u001B[39;49m\u001B[43m]\u001B[49m\u001B[43m)\u001B[49m\u001B[43m)\u001B[49m\n",
      "File \u001B[1;32mG:\\My Drive\\Stanford\\research\\FEL\\CSR\\pyDFCSR\\pyDFCSR_2D\\interp3D.py:99\u001B[0m, in \u001B[0;36mTrilinearInterpolator_vec.interp\u001B[1;34m(self, xval, yval, zval)\u001B[0m\n\u001B[0;32m     98\u001B[0m \u001B[38;5;28;01mdef\u001B[39;00m \u001B[38;5;21minterp\u001B[39m(\u001B[38;5;28mself\u001B[39m, xval, yval, zval):\n\u001B[1;32m---> 99\u001B[0m     \u001B[38;5;28;01mreturn\u001B[39;00m \u001B[43minterpolate3D_vec\u001B[49m(xval, yval, zval, \u001B[38;5;28mself\u001B[39m\u001B[38;5;241m.\u001B[39mdata,\n\u001B[0;32m    100\u001B[0m                        \u001B[38;5;28mself\u001B[39m\u001B[38;5;241m.\u001B[39mmin_x, \u001B[38;5;28mself\u001B[39m\u001B[38;5;241m.\u001B[39mmin_y, \u001B[38;5;28mself\u001B[39m\u001B[38;5;241m.\u001B[39mmin_z,\n\u001B[0;32m    101\u001B[0m                        \u001B[38;5;28mself\u001B[39m\u001B[38;5;241m.\u001B[39mdelta_x, \u001B[38;5;28mself\u001B[39m\u001B[38;5;241m.\u001B[39mdelta_y, \u001B[38;5;28mself\u001B[39m\u001B[38;5;241m.\u001B[39mdelta_z)\n",
      "\u001B[1;31mNameError\u001B[0m: name 'interpolate3D_vec' is not defined"
     ]
    }
   ],
   "execution_count": 8
  },
  {
   "cell_type": "code",
   "execution_count": 24,
   "metadata": {},
   "outputs": [
    {
     "data": {
      "text/plain": [
       "array([125.80469388])"
      ]
     },
     "execution_count": 24,
     "metadata": {},
     "output_type": "execute_result"
    }
   ],
   "source": [
    "x"
   ]
  },
  {
   "cell_type": "code",
   "execution_count": null,
   "metadata": {},
   "outputs": [],
   "source": []
  }
 ],
 "metadata": {
  "kernelspec": {
   "display_name": "Python 3 (ipykernel)",
   "language": "python",
   "name": "python3"
  },
  "language_info": {
   "codemirror_mode": {
    "name": "ipython",
    "version": 3
   },
   "file_extension": ".py",
   "mimetype": "text/x-python",
   "name": "python",
   "nbconvert_exporter": "python",
   "pygments_lexer": "ipython3",
   "version": "3.9.16"
  }
 },
 "nbformat": 4,
 "nbformat_minor": 4
}
