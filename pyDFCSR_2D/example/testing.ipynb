{
 "cells": [
  {
   "cell_type": "code",
   "execution_count": 1,
   "metadata": {},
   "outputs": [
    {
     "name": "stdout",
     "output_type": "stream",
     "text": []
    }
   ],
   "source": [
    "from pyDFCSR_2D.CSR import CSR2D\n",
    "\n",
    "testCSR = CSR2D(input_file= 'input/chicane_config.yaml')\n",
    "testCSR.CSR_params.transverse_on = 1"
   ]
  },
  {
   "cell_type": "code",
   "execution_count": null,
   "metadata": {},
   "outputs": [
    {
     "name": "stdout",
     "output_type": "stream",
     "text": [
      "Starting the DFCSR run\n",
      "Finish step 1, s = 0.1,  in 0.19759798049926758 seconds\n",
      "Finish step 2, s = 0.2,  in 0.42652106285095215 seconds\n",
      "Finish step 3, s = 0.30000000000000004,  in 0.41052699089050293 seconds\n",
      "Finish step 4, s = 0.4,  in 0.41089892387390137 seconds\n",
      "Finish step 5, s = 0.5,  in 0.4123849868774414 seconds\n",
      "Finish step 6, s = 0.6,  in 0.41854286193847656 seconds\n"
     ]
    },
    {
     "ename": "TypeError",
     "evalue": "CSR2D.get_bmadx_element() got an unexpected keyword argument 'type'",
     "output_type": "error",
     "traceback": [
      "\u001b[0;31m---------------------------------------------------------------------------\u001b[0m",
      "\u001b[0;31mTypeError\u001b[0m                                 Traceback (most recent call last)",
      "Cell \u001b[0;32mIn[2], line 2\u001b[0m\n\u001b[1;32m      1\u001b[0m get_ipython()\u001b[38;5;241m.\u001b[39mrun_line_magic(\u001b[38;5;124m'\u001b[39m\u001b[38;5;124mmatplotlib\u001b[39m\u001b[38;5;124m'\u001b[39m, \u001b[38;5;124m'\u001b[39m\u001b[38;5;124mwidget\u001b[39m\u001b[38;5;124m'\u001b[39m)\n\u001b[0;32m----> 2\u001b[0m \u001b[43mtestCSR\u001b[49m\u001b[38;5;241;43m.\u001b[39;49m\u001b[43mrun\u001b[49m\u001b[43m(\u001b[49m\u001b[43m)\u001b[49m\n",
      "File \u001b[0;32m~/miniconda3/envs/pydfcsr/lib/python3.12/site-packages/pyDFCSR_2D/CSR.py:309\u001b[0m, in \u001b[0;36mCSR2D.run\u001b[0;34m(self, stop_time, debug)\u001b[0m\n\u001b[1;32m    306\u001b[0m \u001b[38;5;66;03m#TODO: Bmadx seems to have some problems when DL is very small\u001b[39;00m\n\u001b[1;32m    307\u001b[0m \u001b[38;5;28;01mif\u001b[39;00m DL_1 \u001b[38;5;241m>\u001b[39m \u001b[38;5;241m1.0e-6\u001b[39m:\n\u001b[1;32m    308\u001b[0m     \u001b[38;5;66;03m# Create bmadx element object for the previous element\u001b[39;00m\n\u001b[0;32m--> 309\u001b[0m     element \u001b[38;5;241m=\u001b[39m \u001b[38;5;28;43mself\u001b[39;49m\u001b[38;5;241;43m.\u001b[39;49m\u001b[43mget_bmadx_element\u001b[49m\u001b[43m(\u001b[49m\u001b[43mele\u001b[49m\u001b[38;5;241;43m=\u001b[39;49m\u001b[43mele_prev\u001b[49m\u001b[43m,\u001b[49m\u001b[43m \u001b[49m\u001b[38;5;28;43mtype\u001b[39;49m\u001b[38;5;241;43m=\u001b[39;49m\u001b[43mtype_prev\u001b[49m\u001b[43m,\u001b[49m\u001b[43m \u001b[49m\u001b[43mDL\u001b[49m\u001b[38;5;241;43m=\u001b[39;49m\u001b[43mDL_1\u001b[49m\u001b[43m,\u001b[49m\u001b[43m \u001b[49m\u001b[43mexit\u001b[49m\u001b[38;5;241;43m=\u001b[39;49m\u001b[38;5;28;43;01mTrue\u001b[39;49;00m\u001b[43m)\u001b[49m\n\u001b[1;32m    311\u001b[0m     \u001b[38;5;66;03m# Propagate\u001b[39;00m\n\u001b[1;32m    312\u001b[0m     \u001b[38;5;28mself\u001b[39m\u001b[38;5;241m.\u001b[39mbeam\u001b[38;5;241m.\u001b[39mtrack(element, DL_1, update_step\u001b[38;5;241m=\u001b[39m\u001b[38;5;28;01mFalse\u001b[39;00m)\n",
      "\u001b[0;31mTypeError\u001b[0m: CSR2D.get_bmadx_element() got an unexpected keyword argument 'type'"
     ]
    }
   ],
   "source": [
    "%matplotlib widget\n",
    "testCSR.run()"
   ]
  }
 ],
 "metadata": {
  "kernelspec": {
   "display_name": "pydfcsr",
   "language": "python",
   "name": "python3"
  },
  "language_info": {
   "codemirror_mode": {
    "name": "ipython",
    "version": 3
   },
   "file_extension": ".py",
   "mimetype": "text/x-python",
   "name": "python",
   "nbconvert_exporter": "python",
   "pygments_lexer": "ipython3",
   "version": "3.12.4"
  }
 },
 "nbformat": 4,
 "nbformat_minor": 2
}
